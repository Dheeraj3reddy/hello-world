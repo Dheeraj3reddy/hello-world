{
  "nbformat": 4,
  "nbformat_minor": 0,
  "metadata": {
    "colab": {
      "name": "IITM_RL_Final_Project_Release.ipynb",
      "provenance": [],
      "collapsed_sections": [],
      "include_colab_link": true
    },
    "kernelspec": {
      "name": "python3",
      "display_name": "Python 3.8.8 64-bit ('torch': conda)"
    },
    "language_info": {
      "codemirror_mode": {
        "name": "ipython",
        "version": 3
      },
      "file_extension": ".py",
      "mimetype": "text/x-python",
      "name": "python",
      "nbconvert_exporter": "python",
      "pygments_lexer": "ipython3",
      "version": "3.8.8-final"
    },
    "widgets": {
      "application/vnd.jupyter.widget-state+json": {
        "3ed1b224367f4022bfe5cffaae09a5c4": {
          "model_module": "@jupyter-widgets/controls",
          "model_name": "HBoxModel",
          "state": {
            "_view_name": "HBoxView",
            "_dom_classes": [],
            "_model_name": "HBoxModel",
            "_view_module": "@jupyter-widgets/controls",
            "_model_module_version": "1.5.0",
            "_view_count": null,
            "_view_module_version": "1.5.0",
            "box_style": "",
            "layout": "IPY_MODEL_46b69a73df4e49d5b025a4af92260ae1",
            "_model_module": "@jupyter-widgets/controls",
            "children": [
              "IPY_MODEL_c0d4f5b06ab54523b8e4a42035c84bf0",
              "IPY_MODEL_9a093647d40f4fddba4823a91dbfcd83",
              "IPY_MODEL_4320a3c371d34f8b839ca47f67188338"
            ]
          }
        },
        "46b69a73df4e49d5b025a4af92260ae1": {
          "model_module": "@jupyter-widgets/base",
          "model_name": "LayoutModel",
          "state": {
            "_view_name": "LayoutView",
            "grid_template_rows": null,
            "right": null,
            "justify_content": null,
            "_view_module": "@jupyter-widgets/base",
            "overflow": null,
            "_model_module_version": "1.2.0",
            "_view_count": null,
            "flex_flow": null,
            "width": null,
            "min_width": null,
            "border": null,
            "align_items": null,
            "bottom": null,
            "_model_module": "@jupyter-widgets/base",
            "top": null,
            "grid_column": null,
            "overflow_y": null,
            "overflow_x": null,
            "grid_auto_flow": null,
            "grid_area": null,
            "grid_template_columns": null,
            "flex": null,
            "_model_name": "LayoutModel",
            "justify_items": null,
            "grid_row": null,
            "max_height": null,
            "align_content": null,
            "visibility": null,
            "align_self": null,
            "height": null,
            "min_height": null,
            "padding": null,
            "grid_auto_rows": null,
            "grid_gap": null,
            "max_width": null,
            "order": null,
            "_view_module_version": "1.2.0",
            "grid_template_areas": null,
            "object_position": null,
            "object_fit": null,
            "grid_auto_columns": null,
            "margin": null,
            "display": null,
            "left": null
          }
        },
        "c0d4f5b06ab54523b8e4a42035c84bf0": {
          "model_module": "@jupyter-widgets/controls",
          "model_name": "HTMLModel",
          "state": {
            "_view_name": "HTMLView",
            "style": "IPY_MODEL_0bcf43a5f4164da0ad7f0dab2313ed28",
            "_dom_classes": [],
            "description": "",
            "_model_name": "HTMLModel",
            "placeholder": "​",
            "_view_module": "@jupyter-widgets/controls",
            "_model_module_version": "1.5.0",
            "value": "100%",
            "_view_count": null,
            "_view_module_version": "1.5.0",
            "description_tooltip": null,
            "_model_module": "@jupyter-widgets/controls",
            "layout": "IPY_MODEL_c4b9b6e66a4a4635a2b749c6308ea610"
          }
        },
        "9a093647d40f4fddba4823a91dbfcd83": {
          "model_module": "@jupyter-widgets/controls",
          "model_name": "FloatProgressModel",
          "state": {
            "_view_name": "ProgressView",
            "style": "IPY_MODEL_9a5464f1cc634015a4be30fb0e5df6fa",
            "_dom_classes": [],
            "description": "",
            "_model_name": "FloatProgressModel",
            "bar_style": "success",
            "max": 10,
            "_view_module": "@jupyter-widgets/controls",
            "_model_module_version": "1.5.0",
            "value": 10,
            "_view_count": null,
            "_view_module_version": "1.5.0",
            "orientation": "horizontal",
            "min": 0,
            "description_tooltip": null,
            "_model_module": "@jupyter-widgets/controls",
            "layout": "IPY_MODEL_fe99d60827f54e898e34735d351acf4d"
          }
        },
        "4320a3c371d34f8b839ca47f67188338": {
          "model_module": "@jupyter-widgets/controls",
          "model_name": "HTMLModel",
          "state": {
            "_view_name": "HTMLView",
            "style": "IPY_MODEL_bff215747b72419c983fd58452f8cd48",
            "_dom_classes": [],
            "description": "",
            "_model_name": "HTMLModel",
            "placeholder": "​",
            "_view_module": "@jupyter-widgets/controls",
            "_model_module_version": "1.5.0",
            "value": " 10/10 [00:00&lt;00:00, 101.01it/s]",
            "_view_count": null,
            "_view_module_version": "1.5.0",
            "description_tooltip": null,
            "_model_module": "@jupyter-widgets/controls",
            "layout": "IPY_MODEL_7c53b565034f4000a46096ab50e39f95"
          }
        },
        "0bcf43a5f4164da0ad7f0dab2313ed28": {
          "model_module": "@jupyter-widgets/controls",
          "model_name": "DescriptionStyleModel",
          "state": {
            "_view_name": "StyleView",
            "_model_name": "DescriptionStyleModel",
            "description_width": "",
            "_view_module": "@jupyter-widgets/base",
            "_model_module_version": "1.5.0",
            "_view_count": null,
            "_view_module_version": "1.2.0",
            "_model_module": "@jupyter-widgets/controls"
          }
        },
        "c4b9b6e66a4a4635a2b749c6308ea610": {
          "model_module": "@jupyter-widgets/base",
          "model_name": "LayoutModel",
          "state": {
            "_view_name": "LayoutView",
            "grid_template_rows": null,
            "right": null,
            "justify_content": null,
            "_view_module": "@jupyter-widgets/base",
            "overflow": null,
            "_model_module_version": "1.2.0",
            "_view_count": null,
            "flex_flow": null,
            "width": null,
            "min_width": null,
            "border": null,
            "align_items": null,
            "bottom": null,
            "_model_module": "@jupyter-widgets/base",
            "top": null,
            "grid_column": null,
            "overflow_y": null,
            "overflow_x": null,
            "grid_auto_flow": null,
            "grid_area": null,
            "grid_template_columns": null,
            "flex": null,
            "_model_name": "LayoutModel",
            "justify_items": null,
            "grid_row": null,
            "max_height": null,
            "align_content": null,
            "visibility": null,
            "align_self": null,
            "height": null,
            "min_height": null,
            "padding": null,
            "grid_auto_rows": null,
            "grid_gap": null,
            "max_width": null,
            "order": null,
            "_view_module_version": "1.2.0",
            "grid_template_areas": null,
            "object_position": null,
            "object_fit": null,
            "grid_auto_columns": null,
            "margin": null,
            "display": null,
            "left": null
          }
        },
        "9a5464f1cc634015a4be30fb0e5df6fa": {
          "model_module": "@jupyter-widgets/controls",
          "model_name": "ProgressStyleModel",
          "state": {
            "_view_name": "StyleView",
            "_model_name": "ProgressStyleModel",
            "description_width": "",
            "_view_module": "@jupyter-widgets/base",
            "_model_module_version": "1.5.0",
            "_view_count": null,
            "_view_module_version": "1.2.0",
            "bar_color": null,
            "_model_module": "@jupyter-widgets/controls"
          }
        },
        "fe99d60827f54e898e34735d351acf4d": {
          "model_module": "@jupyter-widgets/base",
          "model_name": "LayoutModel",
          "state": {
            "_view_name": "LayoutView",
            "grid_template_rows": null,
            "right": null,
            "justify_content": null,
            "_view_module": "@jupyter-widgets/base",
            "overflow": null,
            "_model_module_version": "1.2.0",
            "_view_count": null,
            "flex_flow": null,
            "width": null,
            "min_width": null,
            "border": null,
            "align_items": null,
            "bottom": null,
            "_model_module": "@jupyter-widgets/base",
            "top": null,
            "grid_column": null,
            "overflow_y": null,
            "overflow_x": null,
            "grid_auto_flow": null,
            "grid_area": null,
            "grid_template_columns": null,
            "flex": null,
            "_model_name": "LayoutModel",
            "justify_items": null,
            "grid_row": null,
            "max_height": null,
            "align_content": null,
            "visibility": null,
            "align_self": null,
            "height": null,
            "min_height": null,
            "padding": null,
            "grid_auto_rows": null,
            "grid_gap": null,
            "max_width": null,
            "order": null,
            "_view_module_version": "1.2.0",
            "grid_template_areas": null,
            "object_position": null,
            "object_fit": null,
            "grid_auto_columns": null,
            "margin": null,
            "display": null,
            "left": null
          }
        },
        "bff215747b72419c983fd58452f8cd48": {
          "model_module": "@jupyter-widgets/controls",
          "model_name": "DescriptionStyleModel",
          "state": {
            "_view_name": "StyleView",
            "_model_name": "DescriptionStyleModel",
            "description_width": "",
            "_view_module": "@jupyter-widgets/base",
            "_model_module_version": "1.5.0",
            "_view_count": null,
            "_view_module_version": "1.2.0",
            "_model_module": "@jupyter-widgets/controls"
          }
        },
        "7c53b565034f4000a46096ab50e39f95": {
          "model_module": "@jupyter-widgets/base",
          "model_name": "LayoutModel",
          "state": {
            "_view_name": "LayoutView",
            "grid_template_rows": null,
            "right": null,
            "justify_content": null,
            "_view_module": "@jupyter-widgets/base",
            "overflow": null,
            "_model_module_version": "1.2.0",
            "_view_count": null,
            "flex_flow": null,
            "width": null,
            "min_width": null,
            "border": null,
            "align_items": null,
            "bottom": null,
            "_model_module": "@jupyter-widgets/base",
            "top": null,
            "grid_column": null,
            "overflow_y": null,
            "overflow_x": null,
            "grid_auto_flow": null,
            "grid_area": null,
            "grid_template_columns": null,
            "flex": null,
            "_model_name": "LayoutModel",
            "justify_items": null,
            "grid_row": null,
            "max_height": null,
            "align_content": null,
            "visibility": null,
            "align_self": null,
            "height": null,
            "min_height": null,
            "padding": null,
            "grid_auto_rows": null,
            "grid_gap": null,
            "max_width": null,
            "order": null,
            "_view_module_version": "1.2.0",
            "grid_template_areas": null,
            "object_position": null,
            "object_fit": null,
            "grid_auto_columns": null,
            "margin": null,
            "display": null,
            "left": null
          }
        },
        "c944d6691d8846299c230c668d7fe77b": {
          "model_module": "@jupyter-widgets/controls",
          "model_name": "HBoxModel",
          "state": {
            "_view_name": "HBoxView",
            "_dom_classes": [],
            "_model_name": "HBoxModel",
            "_view_module": "@jupyter-widgets/controls",
            "_model_module_version": "1.5.0",
            "_view_count": null,
            "_view_module_version": "1.5.0",
            "box_style": "",
            "layout": "IPY_MODEL_06690ec2c9124c3eb058b8b9fec43398",
            "_model_module": "@jupyter-widgets/controls",
            "children": [
              "IPY_MODEL_ac6f8eaf07874f3a8efe6eea3fc1ecb4",
              "IPY_MODEL_d86e8a5e14cc4785af75583d9064c3e8",
              "IPY_MODEL_47c5d4d72c014ada8fe0ee8827bd00fe"
            ]
          }
        },
        "06690ec2c9124c3eb058b8b9fec43398": {
          "model_module": "@jupyter-widgets/base",
          "model_name": "LayoutModel",
          "state": {
            "_view_name": "LayoutView",
            "grid_template_rows": null,
            "right": null,
            "justify_content": null,
            "_view_module": "@jupyter-widgets/base",
            "overflow": null,
            "_model_module_version": "1.2.0",
            "_view_count": null,
            "flex_flow": null,
            "width": null,
            "min_width": null,
            "border": null,
            "align_items": null,
            "bottom": null,
            "_model_module": "@jupyter-widgets/base",
            "top": null,
            "grid_column": null,
            "overflow_y": null,
            "overflow_x": null,
            "grid_auto_flow": null,
            "grid_area": null,
            "grid_template_columns": null,
            "flex": null,
            "_model_name": "LayoutModel",
            "justify_items": null,
            "grid_row": null,
            "max_height": null,
            "align_content": null,
            "visibility": null,
            "align_self": null,
            "height": null,
            "min_height": null,
            "padding": null,
            "grid_auto_rows": null,
            "grid_gap": null,
            "max_width": null,
            "order": null,
            "_view_module_version": "1.2.0",
            "grid_template_areas": null,
            "object_position": null,
            "object_fit": null,
            "grid_auto_columns": null,
            "margin": null,
            "display": null,
            "left": null
          }
        },
        "ac6f8eaf07874f3a8efe6eea3fc1ecb4": {
          "model_module": "@jupyter-widgets/controls",
          "model_name": "HTMLModel",
          "state": {
            "_view_name": "HTMLView",
            "style": "IPY_MODEL_14d2b49245504112874237daa9c94ea5",
            "_dom_classes": [],
            "description": "",
            "_model_name": "HTMLModel",
            "placeholder": "​",
            "_view_module": "@jupyter-widgets/controls",
            "_model_module_version": "1.5.0",
            "value": "100%",
            "_view_count": null,
            "_view_module_version": "1.5.0",
            "description_tooltip": null,
            "_model_module": "@jupyter-widgets/controls",
            "layout": "IPY_MODEL_0f35ca16ea5b46f79dd1b40651b968ff"
          }
        },
        "d86e8a5e14cc4785af75583d9064c3e8": {
          "model_module": "@jupyter-widgets/controls",
          "model_name": "FloatProgressModel",
          "state": {
            "_view_name": "ProgressView",
            "style": "IPY_MODEL_c2a386d898cd43f98f93087abd6606c7",
            "_dom_classes": [],
            "description": "",
            "_model_name": "FloatProgressModel",
            "bar_style": "success",
            "max": 10000,
            "_view_module": "@jupyter-widgets/controls",
            "_model_module_version": "1.5.0",
            "value": 10000,
            "_view_count": null,
            "_view_module_version": "1.5.0",
            "orientation": "horizontal",
            "min": 0,
            "description_tooltip": null,
            "_model_module": "@jupyter-widgets/controls",
            "layout": "IPY_MODEL_b02a5dcba3cd403da16c0adc6bf5f2fc"
          }
        },
        "47c5d4d72c014ada8fe0ee8827bd00fe": {
          "model_module": "@jupyter-widgets/controls",
          "model_name": "HTMLModel",
          "state": {
            "_view_name": "HTMLView",
            "style": "IPY_MODEL_58612ef3371646c195922c00ef37ed48",
            "_dom_classes": [],
            "description": "",
            "_model_name": "HTMLModel",
            "placeholder": "​",
            "_view_module": "@jupyter-widgets/controls",
            "_model_module_version": "1.5.0",
            "value": " 10000/10000 [00:09&lt;00:00, 1032.18it/s]",
            "_view_count": null,
            "_view_module_version": "1.5.0",
            "description_tooltip": null,
            "_model_module": "@jupyter-widgets/controls",
            "layout": "IPY_MODEL_68b0e5cd667e4b369044fedb8b74e9b7"
          }
        },
        "14d2b49245504112874237daa9c94ea5": {
          "model_module": "@jupyter-widgets/controls",
          "model_name": "DescriptionStyleModel",
          "state": {
            "_view_name": "StyleView",
            "_model_name": "DescriptionStyleModel",
            "description_width": "",
            "_view_module": "@jupyter-widgets/base",
            "_model_module_version": "1.5.0",
            "_view_count": null,
            "_view_module_version": "1.2.0",
            "_model_module": "@jupyter-widgets/controls"
          }
        },
        "0f35ca16ea5b46f79dd1b40651b968ff": {
          "model_module": "@jupyter-widgets/base",
          "model_name": "LayoutModel",
          "state": {
            "_view_name": "LayoutView",
            "grid_template_rows": null,
            "right": null,
            "justify_content": null,
            "_view_module": "@jupyter-widgets/base",
            "overflow": null,
            "_model_module_version": "1.2.0",
            "_view_count": null,
            "flex_flow": null,
            "width": null,
            "min_width": null,
            "border": null,
            "align_items": null,
            "bottom": null,
            "_model_module": "@jupyter-widgets/base",
            "top": null,
            "grid_column": null,
            "overflow_y": null,
            "overflow_x": null,
            "grid_auto_flow": null,
            "grid_area": null,
            "grid_template_columns": null,
            "flex": null,
            "_model_name": "LayoutModel",
            "justify_items": null,
            "grid_row": null,
            "max_height": null,
            "align_content": null,
            "visibility": null,
            "align_self": null,
            "height": null,
            "min_height": null,
            "padding": null,
            "grid_auto_rows": null,
            "grid_gap": null,
            "max_width": null,
            "order": null,
            "_view_module_version": "1.2.0",
            "grid_template_areas": null,
            "object_position": null,
            "object_fit": null,
            "grid_auto_columns": null,
            "margin": null,
            "display": null,
            "left": null
          }
        },
        "c2a386d898cd43f98f93087abd6606c7": {
          "model_module": "@jupyter-widgets/controls",
          "model_name": "ProgressStyleModel",
          "state": {
            "_view_name": "StyleView",
            "_model_name": "ProgressStyleModel",
            "description_width": "",
            "_view_module": "@jupyter-widgets/base",
            "_model_module_version": "1.5.0",
            "_view_count": null,
            "_view_module_version": "1.2.0",
            "bar_color": null,
            "_model_module": "@jupyter-widgets/controls"
          }
        },
        "b02a5dcba3cd403da16c0adc6bf5f2fc": {
          "model_module": "@jupyter-widgets/base",
          "model_name": "LayoutModel",
          "state": {
            "_view_name": "LayoutView",
            "grid_template_rows": null,
            "right": null,
            "justify_content": null,
            "_view_module": "@jupyter-widgets/base",
            "overflow": null,
            "_model_module_version": "1.2.0",
            "_view_count": null,
            "flex_flow": null,
            "width": null,
            "min_width": null,
            "border": null,
            "align_items": null,
            "bottom": null,
            "_model_module": "@jupyter-widgets/base",
            "top": null,
            "grid_column": null,
            "overflow_y": null,
            "overflow_x": null,
            "grid_auto_flow": null,
            "grid_area": null,
            "grid_template_columns": null,
            "flex": null,
            "_model_name": "LayoutModel",
            "justify_items": null,
            "grid_row": null,
            "max_height": null,
            "align_content": null,
            "visibility": null,
            "align_self": null,
            "height": null,
            "min_height": null,
            "padding": null,
            "grid_auto_rows": null,
            "grid_gap": null,
            "max_width": null,
            "order": null,
            "_view_module_version": "1.2.0",
            "grid_template_areas": null,
            "object_position": null,
            "object_fit": null,
            "grid_auto_columns": null,
            "margin": null,
            "display": null,
            "left": null
          }
        },
        "58612ef3371646c195922c00ef37ed48": {
          "model_module": "@jupyter-widgets/controls",
          "model_name": "DescriptionStyleModel",
          "state": {
            "_view_name": "StyleView",
            "_model_name": "DescriptionStyleModel",
            "description_width": "",
            "_view_module": "@jupyter-widgets/base",
            "_model_module_version": "1.5.0",
            "_view_count": null,
            "_view_module_version": "1.2.0",
            "_model_module": "@jupyter-widgets/controls"
          }
        },
        "68b0e5cd667e4b369044fedb8b74e9b7": {
          "model_module": "@jupyter-widgets/base",
          "model_name": "LayoutModel",
          "state": {
            "_view_name": "LayoutView",
            "grid_template_rows": null,
            "right": null,
            "justify_content": null,
            "_view_module": "@jupyter-widgets/base",
            "overflow": null,
            "_model_module_version": "1.2.0",
            "_view_count": null,
            "flex_flow": null,
            "width": null,
            "min_width": null,
            "border": null,
            "align_items": null,
            "bottom": null,
            "_model_module": "@jupyter-widgets/base",
            "top": null,
            "grid_column": null,
            "overflow_y": null,
            "overflow_x": null,
            "grid_auto_flow": null,
            "grid_area": null,
            "grid_template_columns": null,
            "flex": null,
            "_model_name": "LayoutModel",
            "justify_items": null,
            "grid_row": null,
            "max_height": null,
            "align_content": null,
            "visibility": null,
            "align_self": null,
            "height": null,
            "min_height": null,
            "padding": null,
            "grid_auto_rows": null,
            "grid_gap": null,
            "max_width": null,
            "order": null,
            "_view_module_version": "1.2.0",
            "grid_template_areas": null,
            "object_position": null,
            "object_fit": null,
            "grid_auto_columns": null,
            "margin": null,
            "display": null,
            "left": null
          }
        },
        "2ce8fef1d787443ab6b02e584cc5f26b": {
          "model_module": "@jupyter-widgets/controls",
          "model_name": "HBoxModel",
          "state": {
            "_view_name": "HBoxView",
            "_dom_classes": [],
            "_model_name": "HBoxModel",
            "_view_module": "@jupyter-widgets/controls",
            "_model_module_version": "1.5.0",
            "_view_count": null,
            "_view_module_version": "1.5.0",
            "box_style": "",
            "layout": "IPY_MODEL_3d1be05ac5cf42a583140e581a9aa3bb",
            "_model_module": "@jupyter-widgets/controls",
            "children": [
              "IPY_MODEL_018382be762f4d629a7a6f0f29ca0a17",
              "IPY_MODEL_66a9aec08347467d93e663ecbc06268c",
              "IPY_MODEL_9e82eab034db4005b383c077053937c1"
            ]
          }
        },
        "3d1be05ac5cf42a583140e581a9aa3bb": {
          "model_module": "@jupyter-widgets/base",
          "model_name": "LayoutModel",
          "state": {
            "_view_name": "LayoutView",
            "grid_template_rows": null,
            "right": null,
            "justify_content": null,
            "_view_module": "@jupyter-widgets/base",
            "overflow": null,
            "_model_module_version": "1.2.0",
            "_view_count": null,
            "flex_flow": null,
            "width": null,
            "min_width": null,
            "border": null,
            "align_items": null,
            "bottom": null,
            "_model_module": "@jupyter-widgets/base",
            "top": null,
            "grid_column": null,
            "overflow_y": null,
            "overflow_x": null,
            "grid_auto_flow": null,
            "grid_area": null,
            "grid_template_columns": null,
            "flex": null,
            "_model_name": "LayoutModel",
            "justify_items": null,
            "grid_row": null,
            "max_height": null,
            "align_content": null,
            "visibility": null,
            "align_self": null,
            "height": null,
            "min_height": null,
            "padding": null,
            "grid_auto_rows": null,
            "grid_gap": null,
            "max_width": null,
            "order": null,
            "_view_module_version": "1.2.0",
            "grid_template_areas": null,
            "object_position": null,
            "object_fit": null,
            "grid_auto_columns": null,
            "margin": null,
            "display": null,
            "left": null
          }
        },
        "018382be762f4d629a7a6f0f29ca0a17": {
          "model_module": "@jupyter-widgets/controls",
          "model_name": "HTMLModel",
          "state": {
            "_view_name": "HTMLView",
            "style": "IPY_MODEL_6d41e8231d4d4a60b60f737922a731bd",
            "_dom_classes": [],
            "description": "",
            "_model_name": "HTMLModel",
            "placeholder": "​",
            "_view_module": "@jupyter-widgets/controls",
            "_model_module_version": "1.5.0",
            "value": "100%",
            "_view_count": null,
            "_view_module_version": "1.5.0",
            "description_tooltip": null,
            "_model_module": "@jupyter-widgets/controls",
            "layout": "IPY_MODEL_abfe7a95c9354348bac578530a925836"
          }
        },
        "66a9aec08347467d93e663ecbc06268c": {
          "model_module": "@jupyter-widgets/controls",
          "model_name": "FloatProgressModel",
          "state": {
            "_view_name": "ProgressView",
            "style": "IPY_MODEL_cee8c9a6f9024e0291e30e10d2e91c3c",
            "_dom_classes": [],
            "description": "",
            "_model_name": "FloatProgressModel",
            "bar_style": "success",
            "max": 10000,
            "_view_module": "@jupyter-widgets/controls",
            "_model_module_version": "1.5.0",
            "value": 10000,
            "_view_count": null,
            "_view_module_version": "1.5.0",
            "orientation": "horizontal",
            "min": 0,
            "description_tooltip": null,
            "_model_module": "@jupyter-widgets/controls",
            "layout": "IPY_MODEL_87a1abb56f064f168121f913dec6a069"
          }
        },
        "9e82eab034db4005b383c077053937c1": {
          "model_module": "@jupyter-widgets/controls",
          "model_name": "HTMLModel",
          "state": {
            "_view_name": "HTMLView",
            "style": "IPY_MODEL_2670d2e77d0a4bd3a1f2d62fa73a968e",
            "_dom_classes": [],
            "description": "",
            "_model_name": "HTMLModel",
            "placeholder": "​",
            "_view_module": "@jupyter-widgets/controls",
            "_model_module_version": "1.5.0",
            "value": " 10000/10000 [00:10&lt;00:00, 940.77it/s]",
            "_view_count": null,
            "_view_module_version": "1.5.0",
            "description_tooltip": null,
            "_model_module": "@jupyter-widgets/controls",
            "layout": "IPY_MODEL_01f323a091984b03b63be75198baa8c3"
          }
        },
        "6d41e8231d4d4a60b60f737922a731bd": {
          "model_module": "@jupyter-widgets/controls",
          "model_name": "DescriptionStyleModel",
          "state": {
            "_view_name": "StyleView",
            "_model_name": "DescriptionStyleModel",
            "description_width": "",
            "_view_module": "@jupyter-widgets/base",
            "_model_module_version": "1.5.0",
            "_view_count": null,
            "_view_module_version": "1.2.0",
            "_model_module": "@jupyter-widgets/controls"
          }
        },
        "abfe7a95c9354348bac578530a925836": {
          "model_module": "@jupyter-widgets/base",
          "model_name": "LayoutModel",
          "state": {
            "_view_name": "LayoutView",
            "grid_template_rows": null,
            "right": null,
            "justify_content": null,
            "_view_module": "@jupyter-widgets/base",
            "overflow": null,
            "_model_module_version": "1.2.0",
            "_view_count": null,
            "flex_flow": null,
            "width": null,
            "min_width": null,
            "border": null,
            "align_items": null,
            "bottom": null,
            "_model_module": "@jupyter-widgets/base",
            "top": null,
            "grid_column": null,
            "overflow_y": null,
            "overflow_x": null,
            "grid_auto_flow": null,
            "grid_area": null,
            "grid_template_columns": null,
            "flex": null,
            "_model_name": "LayoutModel",
            "justify_items": null,
            "grid_row": null,
            "max_height": null,
            "align_content": null,
            "visibility": null,
            "align_self": null,
            "height": null,
            "min_height": null,
            "padding": null,
            "grid_auto_rows": null,
            "grid_gap": null,
            "max_width": null,
            "order": null,
            "_view_module_version": "1.2.0",
            "grid_template_areas": null,
            "object_position": null,
            "object_fit": null,
            "grid_auto_columns": null,
            "margin": null,
            "display": null,
            "left": null
          }
        },
        "cee8c9a6f9024e0291e30e10d2e91c3c": {
          "model_module": "@jupyter-widgets/controls",
          "model_name": "ProgressStyleModel",
          "state": {
            "_view_name": "StyleView",
            "_model_name": "ProgressStyleModel",
            "description_width": "",
            "_view_module": "@jupyter-widgets/base",
            "_model_module_version": "1.5.0",
            "_view_count": null,
            "_view_module_version": "1.2.0",
            "bar_color": null,
            "_model_module": "@jupyter-widgets/controls"
          }
        },
        "87a1abb56f064f168121f913dec6a069": {
          "model_module": "@jupyter-widgets/base",
          "model_name": "LayoutModel",
          "state": {
            "_view_name": "LayoutView",
            "grid_template_rows": null,
            "right": null,
            "justify_content": null,
            "_view_module": "@jupyter-widgets/base",
            "overflow": null,
            "_model_module_version": "1.2.0",
            "_view_count": null,
            "flex_flow": null,
            "width": null,
            "min_width": null,
            "border": null,
            "align_items": null,
            "bottom": null,
            "_model_module": "@jupyter-widgets/base",
            "top": null,
            "grid_column": null,
            "overflow_y": null,
            "overflow_x": null,
            "grid_auto_flow": null,
            "grid_area": null,
            "grid_template_columns": null,
            "flex": null,
            "_model_name": "LayoutModel",
            "justify_items": null,
            "grid_row": null,
            "max_height": null,
            "align_content": null,
            "visibility": null,
            "align_self": null,
            "height": null,
            "min_height": null,
            "padding": null,
            "grid_auto_rows": null,
            "grid_gap": null,
            "max_width": null,
            "order": null,
            "_view_module_version": "1.2.0",
            "grid_template_areas": null,
            "object_position": null,
            "object_fit": null,
            "grid_auto_columns": null,
            "margin": null,
            "display": null,
            "left": null
          }
        },
        "2670d2e77d0a4bd3a1f2d62fa73a968e": {
          "model_module": "@jupyter-widgets/controls",
          "model_name": "DescriptionStyleModel",
          "state": {
            "_view_name": "StyleView",
            "_model_name": "DescriptionStyleModel",
            "description_width": "",
            "_view_module": "@jupyter-widgets/base",
            "_model_module_version": "1.5.0",
            "_view_count": null,
            "_view_module_version": "1.2.0",
            "_model_module": "@jupyter-widgets/controls"
          }
        },
        "01f323a091984b03b63be75198baa8c3": {
          "model_module": "@jupyter-widgets/base",
          "model_name": "LayoutModel",
          "state": {
            "_view_name": "LayoutView",
            "grid_template_rows": null,
            "right": null,
            "justify_content": null,
            "_view_module": "@jupyter-widgets/base",
            "overflow": null,
            "_model_module_version": "1.2.0",
            "_view_count": null,
            "flex_flow": null,
            "width": null,
            "min_width": null,
            "border": null,
            "align_items": null,
            "bottom": null,
            "_model_module": "@jupyter-widgets/base",
            "top": null,
            "grid_column": null,
            "overflow_y": null,
            "overflow_x": null,
            "grid_auto_flow": null,
            "grid_area": null,
            "grid_template_columns": null,
            "flex": null,
            "_model_name": "LayoutModel",
            "justify_items": null,
            "grid_row": null,
            "max_height": null,
            "align_content": null,
            "visibility": null,
            "align_self": null,
            "height": null,
            "min_height": null,
            "padding": null,
            "grid_auto_rows": null,
            "grid_gap": null,
            "max_width": null,
            "order": null,
            "_view_module_version": "1.2.0",
            "grid_template_areas": null,
            "object_position": null,
            "object_fit": null,
            "grid_auto_columns": null,
            "margin": null,
            "display": null,
            "left": null
          }
        },
        "8b0c840595ed415ba2d909076271756f": {
          "model_module": "@jupyter-widgets/controls",
          "model_name": "HBoxModel",
          "state": {
            "_view_name": "HBoxView",
            "_dom_classes": [],
            "_model_name": "HBoxModel",
            "_view_module": "@jupyter-widgets/controls",
            "_model_module_version": "1.5.0",
            "_view_count": null,
            "_view_module_version": "1.5.0",
            "box_style": "",
            "layout": "IPY_MODEL_79d9b8ad123d42a6b5875cedb0f0b5d6",
            "_model_module": "@jupyter-widgets/controls",
            "children": [
              "IPY_MODEL_470bdd43482b480595b09a658a316d3e",
              "IPY_MODEL_27340849aff444c5a49dab542c82548e",
              "IPY_MODEL_b7e9623b4c7242ba955416176f98b7f5"
            ]
          }
        },
        "79d9b8ad123d42a6b5875cedb0f0b5d6": {
          "model_module": "@jupyter-widgets/base",
          "model_name": "LayoutModel",
          "state": {
            "_view_name": "LayoutView",
            "grid_template_rows": null,
            "right": null,
            "justify_content": null,
            "_view_module": "@jupyter-widgets/base",
            "overflow": null,
            "_model_module_version": "1.2.0",
            "_view_count": null,
            "flex_flow": null,
            "width": null,
            "min_width": null,
            "border": null,
            "align_items": null,
            "bottom": null,
            "_model_module": "@jupyter-widgets/base",
            "top": null,
            "grid_column": null,
            "overflow_y": null,
            "overflow_x": null,
            "grid_auto_flow": null,
            "grid_area": null,
            "grid_template_columns": null,
            "flex": null,
            "_model_name": "LayoutModel",
            "justify_items": null,
            "grid_row": null,
            "max_height": null,
            "align_content": null,
            "visibility": null,
            "align_self": null,
            "height": null,
            "min_height": null,
            "padding": null,
            "grid_auto_rows": null,
            "grid_gap": null,
            "max_width": null,
            "order": null,
            "_view_module_version": "1.2.0",
            "grid_template_areas": null,
            "object_position": null,
            "object_fit": null,
            "grid_auto_columns": null,
            "margin": null,
            "display": null,
            "left": null
          }
        },
        "470bdd43482b480595b09a658a316d3e": {
          "model_module": "@jupyter-widgets/controls",
          "model_name": "HTMLModel",
          "state": {
            "_view_name": "HTMLView",
            "style": "IPY_MODEL_3844c359462d465aaf650ecbb1efdc65",
            "_dom_classes": [],
            "description": "",
            "_model_name": "HTMLModel",
            "placeholder": "​",
            "_view_module": "@jupyter-widgets/controls",
            "_model_module_version": "1.5.0",
            "value": "100%",
            "_view_count": null,
            "_view_module_version": "1.5.0",
            "description_tooltip": null,
            "_model_module": "@jupyter-widgets/controls",
            "layout": "IPY_MODEL_fe0991509e3e47af992b216dacc2df6d"
          }
        },
        "27340849aff444c5a49dab542c82548e": {
          "model_module": "@jupyter-widgets/controls",
          "model_name": "FloatProgressModel",
          "state": {
            "_view_name": "ProgressView",
            "style": "IPY_MODEL_519f1e277ae6453889665dc864586164",
            "_dom_classes": [],
            "description": "",
            "_model_name": "FloatProgressModel",
            "bar_style": "success",
            "max": 1000,
            "_view_module": "@jupyter-widgets/controls",
            "_model_module_version": "1.5.0",
            "value": 1000,
            "_view_count": null,
            "_view_module_version": "1.5.0",
            "orientation": "horizontal",
            "min": 0,
            "description_tooltip": null,
            "_model_module": "@jupyter-widgets/controls",
            "layout": "IPY_MODEL_7ceba5899c82494897e1e74b8a31f51b"
          }
        },
        "b7e9623b4c7242ba955416176f98b7f5": {
          "model_module": "@jupyter-widgets/controls",
          "model_name": "HTMLModel",
          "state": {
            "_view_name": "HTMLView",
            "style": "IPY_MODEL_17ad1074c3184c81ba136559306a9211",
            "_dom_classes": [],
            "description": "",
            "_model_name": "HTMLModel",
            "placeholder": "​",
            "_view_module": "@jupyter-widgets/controls",
            "_model_module_version": "1.5.0",
            "value": " 1000/1000 [00:02&lt;00:00, 407.39it/s]",
            "_view_count": null,
            "_view_module_version": "1.5.0",
            "description_tooltip": null,
            "_model_module": "@jupyter-widgets/controls",
            "layout": "IPY_MODEL_64fdd33d0ed84f6b830e6dc83022eb01"
          }
        },
        "3844c359462d465aaf650ecbb1efdc65": {
          "model_module": "@jupyter-widgets/controls",
          "model_name": "DescriptionStyleModel",
          "state": {
            "_view_name": "StyleView",
            "_model_name": "DescriptionStyleModel",
            "description_width": "",
            "_view_module": "@jupyter-widgets/base",
            "_model_module_version": "1.5.0",
            "_view_count": null,
            "_view_module_version": "1.2.0",
            "_model_module": "@jupyter-widgets/controls"
          }
        },
        "fe0991509e3e47af992b216dacc2df6d": {
          "model_module": "@jupyter-widgets/base",
          "model_name": "LayoutModel",
          "state": {
            "_view_name": "LayoutView",
            "grid_template_rows": null,
            "right": null,
            "justify_content": null,
            "_view_module": "@jupyter-widgets/base",
            "overflow": null,
            "_model_module_version": "1.2.0",
            "_view_count": null,
            "flex_flow": null,
            "width": null,
            "min_width": null,
            "border": null,
            "align_items": null,
            "bottom": null,
            "_model_module": "@jupyter-widgets/base",
            "top": null,
            "grid_column": null,
            "overflow_y": null,
            "overflow_x": null,
            "grid_auto_flow": null,
            "grid_area": null,
            "grid_template_columns": null,
            "flex": null,
            "_model_name": "LayoutModel",
            "justify_items": null,
            "grid_row": null,
            "max_height": null,
            "align_content": null,
            "visibility": null,
            "align_self": null,
            "height": null,
            "min_height": null,
            "padding": null,
            "grid_auto_rows": null,
            "grid_gap": null,
            "max_width": null,
            "order": null,
            "_view_module_version": "1.2.0",
            "grid_template_areas": null,
            "object_position": null,
            "object_fit": null,
            "grid_auto_columns": null,
            "margin": null,
            "display": null,
            "left": null
          }
        },
        "519f1e277ae6453889665dc864586164": {
          "model_module": "@jupyter-widgets/controls",
          "model_name": "ProgressStyleModel",
          "state": {
            "_view_name": "StyleView",
            "_model_name": "ProgressStyleModel",
            "description_width": "",
            "_view_module": "@jupyter-widgets/base",
            "_model_module_version": "1.5.0",
            "_view_count": null,
            "_view_module_version": "1.2.0",
            "bar_color": null,
            "_model_module": "@jupyter-widgets/controls"
          }
        },
        "7ceba5899c82494897e1e74b8a31f51b": {
          "model_module": "@jupyter-widgets/base",
          "model_name": "LayoutModel",
          "state": {
            "_view_name": "LayoutView",
            "grid_template_rows": null,
            "right": null,
            "justify_content": null,
            "_view_module": "@jupyter-widgets/base",
            "overflow": null,
            "_model_module_version": "1.2.0",
            "_view_count": null,
            "flex_flow": null,
            "width": null,
            "min_width": null,
            "border": null,
            "align_items": null,
            "bottom": null,
            "_model_module": "@jupyter-widgets/base",
            "top": null,
            "grid_column": null,
            "overflow_y": null,
            "overflow_x": null,
            "grid_auto_flow": null,
            "grid_area": null,
            "grid_template_columns": null,
            "flex": null,
            "_model_name": "LayoutModel",
            "justify_items": null,
            "grid_row": null,
            "max_height": null,
            "align_content": null,
            "visibility": null,
            "align_self": null,
            "height": null,
            "min_height": null,
            "padding": null,
            "grid_auto_rows": null,
            "grid_gap": null,
            "max_width": null,
            "order": null,
            "_view_module_version": "1.2.0",
            "grid_template_areas": null,
            "object_position": null,
            "object_fit": null,
            "grid_auto_columns": null,
            "margin": null,
            "display": null,
            "left": null
          }
        },
        "17ad1074c3184c81ba136559306a9211": {
          "model_module": "@jupyter-widgets/controls",
          "model_name": "DescriptionStyleModel",
          "state": {
            "_view_name": "StyleView",
            "_model_name": "DescriptionStyleModel",
            "description_width": "",
            "_view_module": "@jupyter-widgets/base",
            "_model_module_version": "1.5.0",
            "_view_count": null,
            "_view_module_version": "1.2.0",
            "_model_module": "@jupyter-widgets/controls"
          }
        },
        "64fdd33d0ed84f6b830e6dc83022eb01": {
          "model_module": "@jupyter-widgets/base",
          "model_name": "LayoutModel",
          "state": {
            "_view_name": "LayoutView",
            "grid_template_rows": null,
            "right": null,
            "justify_content": null,
            "_view_module": "@jupyter-widgets/base",
            "overflow": null,
            "_model_module_version": "1.2.0",
            "_view_count": null,
            "flex_flow": null,
            "width": null,
            "min_width": null,
            "border": null,
            "align_items": null,
            "bottom": null,
            "_model_module": "@jupyter-widgets/base",
            "top": null,
            "grid_column": null,
            "overflow_y": null,
            "overflow_x": null,
            "grid_auto_flow": null,
            "grid_area": null,
            "grid_template_columns": null,
            "flex": null,
            "_model_name": "LayoutModel",
            "justify_items": null,
            "grid_row": null,
            "max_height": null,
            "align_content": null,
            "visibility": null,
            "align_self": null,
            "height": null,
            "min_height": null,
            "padding": null,
            "grid_auto_rows": null,
            "grid_gap": null,
            "max_width": null,
            "order": null,
            "_view_module_version": "1.2.0",
            "grid_template_areas": null,
            "object_position": null,
            "object_fit": null,
            "grid_auto_columns": null,
            "margin": null,
            "display": null,
            "left": null
          }
        },
        "bc9c41e8026d4eaea69ae9943242ee4e": {
          "model_module": "@jupyter-widgets/controls",
          "model_name": "HBoxModel",
          "state": {
            "_view_name": "HBoxView",
            "_dom_classes": [],
            "_model_name": "HBoxModel",
            "_view_module": "@jupyter-widgets/controls",
            "_model_module_version": "1.5.0",
            "_view_count": null,
            "_view_module_version": "1.5.0",
            "box_style": "",
            "layout": "IPY_MODEL_607d61e4e5944b7abe7f93857fb0e0cb",
            "_model_module": "@jupyter-widgets/controls",
            "children": [
              "IPY_MODEL_39f3039c00f04d4ab273e062af14b509",
              "IPY_MODEL_2ff72f5f8b54447c9f099bb9ad4fa300",
              "IPY_MODEL_9e1f620ab75b4633a7f6adbaf584742f"
            ]
          }
        },
        "607d61e4e5944b7abe7f93857fb0e0cb": {
          "model_module": "@jupyter-widgets/base",
          "model_name": "LayoutModel",
          "state": {
            "_view_name": "LayoutView",
            "grid_template_rows": null,
            "right": null,
            "justify_content": null,
            "_view_module": "@jupyter-widgets/base",
            "overflow": null,
            "_model_module_version": "1.2.0",
            "_view_count": null,
            "flex_flow": null,
            "width": null,
            "min_width": null,
            "border": null,
            "align_items": null,
            "bottom": null,
            "_model_module": "@jupyter-widgets/base",
            "top": null,
            "grid_column": null,
            "overflow_y": null,
            "overflow_x": null,
            "grid_auto_flow": null,
            "grid_area": null,
            "grid_template_columns": null,
            "flex": null,
            "_model_name": "LayoutModel",
            "justify_items": null,
            "grid_row": null,
            "max_height": null,
            "align_content": null,
            "visibility": null,
            "align_self": null,
            "height": null,
            "min_height": null,
            "padding": null,
            "grid_auto_rows": null,
            "grid_gap": null,
            "max_width": null,
            "order": null,
            "_view_module_version": "1.2.0",
            "grid_template_areas": null,
            "object_position": null,
            "object_fit": null,
            "grid_auto_columns": null,
            "margin": null,
            "display": null,
            "left": null
          }
        },
        "39f3039c00f04d4ab273e062af14b509": {
          "model_module": "@jupyter-widgets/controls",
          "model_name": "HTMLModel",
          "state": {
            "_view_name": "HTMLView",
            "style": "IPY_MODEL_f99784529ae144b3bd62b878b6250f27",
            "_dom_classes": [],
            "description": "",
            "_model_name": "HTMLModel",
            "placeholder": "​",
            "_view_module": "@jupyter-widgets/controls",
            "_model_module_version": "1.5.0",
            "value": "100%",
            "_view_count": null,
            "_view_module_version": "1.5.0",
            "description_tooltip": null,
            "_model_module": "@jupyter-widgets/controls",
            "layout": "IPY_MODEL_b6526167eaa244b280bf06c31508783c"
          }
        },
        "2ff72f5f8b54447c9f099bb9ad4fa300": {
          "model_module": "@jupyter-widgets/controls",
          "model_name": "FloatProgressModel",
          "state": {
            "_view_name": "ProgressView",
            "style": "IPY_MODEL_b85b97f23e654a2e88c79fb57d849803",
            "_dom_classes": [],
            "description": "",
            "_model_name": "FloatProgressModel",
            "bar_style": "success",
            "max": 1000,
            "_view_module": "@jupyter-widgets/controls",
            "_model_module_version": "1.5.0",
            "value": 1000,
            "_view_count": null,
            "_view_module_version": "1.5.0",
            "orientation": "horizontal",
            "min": 0,
            "description_tooltip": null,
            "_model_module": "@jupyter-widgets/controls",
            "layout": "IPY_MODEL_d889e6f982da4f8486a4481a1e63334f"
          }
        },
        "9e1f620ab75b4633a7f6adbaf584742f": {
          "model_module": "@jupyter-widgets/controls",
          "model_name": "HTMLModel",
          "state": {
            "_view_name": "HTMLView",
            "style": "IPY_MODEL_fb5ce9bd01a14d96a1cf91afeb11d3c2",
            "_dom_classes": [],
            "description": "",
            "_model_name": "HTMLModel",
            "placeholder": "​",
            "_view_module": "@jupyter-widgets/controls",
            "_model_module_version": "1.5.0",
            "value": " 1000/1000 [00:02&lt;00:00, 398.75it/s]",
            "_view_count": null,
            "_view_module_version": "1.5.0",
            "description_tooltip": null,
            "_model_module": "@jupyter-widgets/controls",
            "layout": "IPY_MODEL_d44b5e998da14ccabcbcc1f3fc758f97"
          }
        },
        "f99784529ae144b3bd62b878b6250f27": {
          "model_module": "@jupyter-widgets/controls",
          "model_name": "DescriptionStyleModel",
          "state": {
            "_view_name": "StyleView",
            "_model_name": "DescriptionStyleModel",
            "description_width": "",
            "_view_module": "@jupyter-widgets/base",
            "_model_module_version": "1.5.0",
            "_view_count": null,
            "_view_module_version": "1.2.0",
            "_model_module": "@jupyter-widgets/controls"
          }
        },
        "b6526167eaa244b280bf06c31508783c": {
          "model_module": "@jupyter-widgets/base",
          "model_name": "LayoutModel",
          "state": {
            "_view_name": "LayoutView",
            "grid_template_rows": null,
            "right": null,
            "justify_content": null,
            "_view_module": "@jupyter-widgets/base",
            "overflow": null,
            "_model_module_version": "1.2.0",
            "_view_count": null,
            "flex_flow": null,
            "width": null,
            "min_width": null,
            "border": null,
            "align_items": null,
            "bottom": null,
            "_model_module": "@jupyter-widgets/base",
            "top": null,
            "grid_column": null,
            "overflow_y": null,
            "overflow_x": null,
            "grid_auto_flow": null,
            "grid_area": null,
            "grid_template_columns": null,
            "flex": null,
            "_model_name": "LayoutModel",
            "justify_items": null,
            "grid_row": null,
            "max_height": null,
            "align_content": null,
            "visibility": null,
            "align_self": null,
            "height": null,
            "min_height": null,
            "padding": null,
            "grid_auto_rows": null,
            "grid_gap": null,
            "max_width": null,
            "order": null,
            "_view_module_version": "1.2.0",
            "grid_template_areas": null,
            "object_position": null,
            "object_fit": null,
            "grid_auto_columns": null,
            "margin": null,
            "display": null,
            "left": null
          }
        },
        "b85b97f23e654a2e88c79fb57d849803": {
          "model_module": "@jupyter-widgets/controls",
          "model_name": "ProgressStyleModel",
          "state": {
            "_view_name": "StyleView",
            "_model_name": "ProgressStyleModel",
            "description_width": "",
            "_view_module": "@jupyter-widgets/base",
            "_model_module_version": "1.5.0",
            "_view_count": null,
            "_view_module_version": "1.2.0",
            "bar_color": null,
            "_model_module": "@jupyter-widgets/controls"
          }
        },
        "d889e6f982da4f8486a4481a1e63334f": {
          "model_module": "@jupyter-widgets/base",
          "model_name": "LayoutModel",
          "state": {
            "_view_name": "LayoutView",
            "grid_template_rows": null,
            "right": null,
            "justify_content": null,
            "_view_module": "@jupyter-widgets/base",
            "overflow": null,
            "_model_module_version": "1.2.0",
            "_view_count": null,
            "flex_flow": null,
            "width": null,
            "min_width": null,
            "border": null,
            "align_items": null,
            "bottom": null,
            "_model_module": "@jupyter-widgets/base",
            "top": null,
            "grid_column": null,
            "overflow_y": null,
            "overflow_x": null,
            "grid_auto_flow": null,
            "grid_area": null,
            "grid_template_columns": null,
            "flex": null,
            "_model_name": "LayoutModel",
            "justify_items": null,
            "grid_row": null,
            "max_height": null,
            "align_content": null,
            "visibility": null,
            "align_self": null,
            "height": null,
            "min_height": null,
            "padding": null,
            "grid_auto_rows": null,
            "grid_gap": null,
            "max_width": null,
            "order": null,
            "_view_module_version": "1.2.0",
            "grid_template_areas": null,
            "object_position": null,
            "object_fit": null,
            "grid_auto_columns": null,
            "margin": null,
            "display": null,
            "left": null
          }
        },
        "fb5ce9bd01a14d96a1cf91afeb11d3c2": {
          "model_module": "@jupyter-widgets/controls",
          "model_name": "DescriptionStyleModel",
          "state": {
            "_view_name": "StyleView",
            "_model_name": "DescriptionStyleModel",
            "description_width": "",
            "_view_module": "@jupyter-widgets/base",
            "_model_module_version": "1.5.0",
            "_view_count": null,
            "_view_module_version": "1.2.0",
            "_model_module": "@jupyter-widgets/controls"
          }
        },
        "d44b5e998da14ccabcbcc1f3fc758f97": {
          "model_module": "@jupyter-widgets/base",
          "model_name": "LayoutModel",
          "state": {
            "_view_name": "LayoutView",
            "grid_template_rows": null,
            "right": null,
            "justify_content": null,
            "_view_module": "@jupyter-widgets/base",
            "overflow": null,
            "_model_module_version": "1.2.0",
            "_view_count": null,
            "flex_flow": null,
            "width": null,
            "min_width": null,
            "border": null,
            "align_items": null,
            "bottom": null,
            "_model_module": "@jupyter-widgets/base",
            "top": null,
            "grid_column": null,
            "overflow_y": null,
            "overflow_x": null,
            "grid_auto_flow": null,
            "grid_area": null,
            "grid_template_columns": null,
            "flex": null,
            "_model_name": "LayoutModel",
            "justify_items": null,
            "grid_row": null,
            "max_height": null,
            "align_content": null,
            "visibility": null,
            "align_self": null,
            "height": null,
            "min_height": null,
            "padding": null,
            "grid_auto_rows": null,
            "grid_gap": null,
            "max_width": null,
            "order": null,
            "_view_module_version": "1.2.0",
            "grid_template_areas": null,
            "object_position": null,
            "object_fit": null,
            "grid_auto_columns": null,
            "margin": null,
            "display": null,
            "left": null
          }
        },
        "db54478273e34bcbbd5fe7fd4924950e": {
          "model_module": "@jupyter-widgets/controls",
          "model_name": "HBoxModel",
          "state": {
            "_view_name": "HBoxView",
            "_dom_classes": [],
            "_model_name": "HBoxModel",
            "_view_module": "@jupyter-widgets/controls",
            "_model_module_version": "1.5.0",
            "_view_count": null,
            "_view_module_version": "1.5.0",
            "box_style": "",
            "layout": "IPY_MODEL_e9f5439a28dc4cdeb614951261cb3404",
            "_model_module": "@jupyter-widgets/controls",
            "children": [
              "IPY_MODEL_1cb5e269fe4d43648a17daa2ce641fad",
              "IPY_MODEL_e793aa9ea5854ca1a6586ea54e493823",
              "IPY_MODEL_54e4ac2dec7341d680de9f7eb8bf5a1d"
            ]
          }
        },
        "e9f5439a28dc4cdeb614951261cb3404": {
          "model_module": "@jupyter-widgets/base",
          "model_name": "LayoutModel",
          "state": {
            "_view_name": "LayoutView",
            "grid_template_rows": null,
            "right": null,
            "justify_content": null,
            "_view_module": "@jupyter-widgets/base",
            "overflow": null,
            "_model_module_version": "1.2.0",
            "_view_count": null,
            "flex_flow": null,
            "width": null,
            "min_width": null,
            "border": null,
            "align_items": null,
            "bottom": null,
            "_model_module": "@jupyter-widgets/base",
            "top": null,
            "grid_column": null,
            "overflow_y": null,
            "overflow_x": null,
            "grid_auto_flow": null,
            "grid_area": null,
            "grid_template_columns": null,
            "flex": null,
            "_model_name": "LayoutModel",
            "justify_items": null,
            "grid_row": null,
            "max_height": null,
            "align_content": null,
            "visibility": null,
            "align_self": null,
            "height": null,
            "min_height": null,
            "padding": null,
            "grid_auto_rows": null,
            "grid_gap": null,
            "max_width": null,
            "order": null,
            "_view_module_version": "1.2.0",
            "grid_template_areas": null,
            "object_position": null,
            "object_fit": null,
            "grid_auto_columns": null,
            "margin": null,
            "display": null,
            "left": null
          }
        },
        "1cb5e269fe4d43648a17daa2ce641fad": {
          "model_module": "@jupyter-widgets/controls",
          "model_name": "HTMLModel",
          "state": {
            "_view_name": "HTMLView",
            "style": "IPY_MODEL_a4959746827e479b82e8c697a06b6a6e",
            "_dom_classes": [],
            "description": "",
            "_model_name": "HTMLModel",
            "placeholder": "​",
            "_view_module": "@jupyter-widgets/controls",
            "_model_module_version": "1.5.0",
            "value": "100%",
            "_view_count": null,
            "_view_module_version": "1.5.0",
            "description_tooltip": null,
            "_model_module": "@jupyter-widgets/controls",
            "layout": "IPY_MODEL_c66518d13bca4a3a9d078afc1524c28f"
          }
        },
        "e793aa9ea5854ca1a6586ea54e493823": {
          "model_module": "@jupyter-widgets/controls",
          "model_name": "FloatProgressModel",
          "state": {
            "_view_name": "ProgressView",
            "style": "IPY_MODEL_940853c92b194af29fb01afed1e78a3b",
            "_dom_classes": [],
            "description": "",
            "_model_name": "FloatProgressModel",
            "bar_style": "success",
            "max": 1000,
            "_view_module": "@jupyter-widgets/controls",
            "_model_module_version": "1.5.0",
            "value": 1000,
            "_view_count": null,
            "_view_module_version": "1.5.0",
            "orientation": "horizontal",
            "min": 0,
            "description_tooltip": null,
            "_model_module": "@jupyter-widgets/controls",
            "layout": "IPY_MODEL_b019b91a5721442eb792a3e7e704bc17"
          }
        },
        "54e4ac2dec7341d680de9f7eb8bf5a1d": {
          "model_module": "@jupyter-widgets/controls",
          "model_name": "HTMLModel",
          "state": {
            "_view_name": "HTMLView",
            "style": "IPY_MODEL_60504efc667946a099161c9ef98dbecb",
            "_dom_classes": [],
            "description": "",
            "_model_name": "HTMLModel",
            "placeholder": "​",
            "_view_module": "@jupyter-widgets/controls",
            "_model_module_version": "1.5.0",
            "value": " 1000/1000 [01:19&lt;00:00, 12.87it/s]",
            "_view_count": null,
            "_view_module_version": "1.5.0",
            "description_tooltip": null,
            "_model_module": "@jupyter-widgets/controls",
            "layout": "IPY_MODEL_ae8236928c7d4a6bb18253da4a95e890"
          }
        },
        "a4959746827e479b82e8c697a06b6a6e": {
          "model_module": "@jupyter-widgets/controls",
          "model_name": "DescriptionStyleModel",
          "state": {
            "_view_name": "StyleView",
            "_model_name": "DescriptionStyleModel",
            "description_width": "",
            "_view_module": "@jupyter-widgets/base",
            "_model_module_version": "1.5.0",
            "_view_count": null,
            "_view_module_version": "1.2.0",
            "_model_module": "@jupyter-widgets/controls"
          }
        },
        "c66518d13bca4a3a9d078afc1524c28f": {
          "model_module": "@jupyter-widgets/base",
          "model_name": "LayoutModel",
          "state": {
            "_view_name": "LayoutView",
            "grid_template_rows": null,
            "right": null,
            "justify_content": null,
            "_view_module": "@jupyter-widgets/base",
            "overflow": null,
            "_model_module_version": "1.2.0",
            "_view_count": null,
            "flex_flow": null,
            "width": null,
            "min_width": null,
            "border": null,
            "align_items": null,
            "bottom": null,
            "_model_module": "@jupyter-widgets/base",
            "top": null,
            "grid_column": null,
            "overflow_y": null,
            "overflow_x": null,
            "grid_auto_flow": null,
            "grid_area": null,
            "grid_template_columns": null,
            "flex": null,
            "_model_name": "LayoutModel",
            "justify_items": null,
            "grid_row": null,
            "max_height": null,
            "align_content": null,
            "visibility": null,
            "align_self": null,
            "height": null,
            "min_height": null,
            "padding": null,
            "grid_auto_rows": null,
            "grid_gap": null,
            "max_width": null,
            "order": null,
            "_view_module_version": "1.2.0",
            "grid_template_areas": null,
            "object_position": null,
            "object_fit": null,
            "grid_auto_columns": null,
            "margin": null,
            "display": null,
            "left": null
          }
        },
        "940853c92b194af29fb01afed1e78a3b": {
          "model_module": "@jupyter-widgets/controls",
          "model_name": "ProgressStyleModel",
          "state": {
            "_view_name": "StyleView",
            "_model_name": "ProgressStyleModel",
            "description_width": "",
            "_view_module": "@jupyter-widgets/base",
            "_model_module_version": "1.5.0",
            "_view_count": null,
            "_view_module_version": "1.2.0",
            "bar_color": null,
            "_model_module": "@jupyter-widgets/controls"
          }
        },
        "b019b91a5721442eb792a3e7e704bc17": {
          "model_module": "@jupyter-widgets/base",
          "model_name": "LayoutModel",
          "state": {
            "_view_name": "LayoutView",
            "grid_template_rows": null,
            "right": null,
            "justify_content": null,
            "_view_module": "@jupyter-widgets/base",
            "overflow": null,
            "_model_module_version": "1.2.0",
            "_view_count": null,
            "flex_flow": null,
            "width": null,
            "min_width": null,
            "border": null,
            "align_items": null,
            "bottom": null,
            "_model_module": "@jupyter-widgets/base",
            "top": null,
            "grid_column": null,
            "overflow_y": null,
            "overflow_x": null,
            "grid_auto_flow": null,
            "grid_area": null,
            "grid_template_columns": null,
            "flex": null,
            "_model_name": "LayoutModel",
            "justify_items": null,
            "grid_row": null,
            "max_height": null,
            "align_content": null,
            "visibility": null,
            "align_self": null,
            "height": null,
            "min_height": null,
            "padding": null,
            "grid_auto_rows": null,
            "grid_gap": null,
            "max_width": null,
            "order": null,
            "_view_module_version": "1.2.0",
            "grid_template_areas": null,
            "object_position": null,
            "object_fit": null,
            "grid_auto_columns": null,
            "margin": null,
            "display": null,
            "left": null
          }
        },
        "60504efc667946a099161c9ef98dbecb": {
          "model_module": "@jupyter-widgets/controls",
          "model_name": "DescriptionStyleModel",
          "state": {
            "_view_name": "StyleView",
            "_model_name": "DescriptionStyleModel",
            "description_width": "",
            "_view_module": "@jupyter-widgets/base",
            "_model_module_version": "1.5.0",
            "_view_count": null,
            "_view_module_version": "1.2.0",
            "_model_module": "@jupyter-widgets/controls"
          }
        },
        "ae8236928c7d4a6bb18253da4a95e890": {
          "model_module": "@jupyter-widgets/base",
          "model_name": "LayoutModel",
          "state": {
            "_view_name": "LayoutView",
            "grid_template_rows": null,
            "right": null,
            "justify_content": null,
            "_view_module": "@jupyter-widgets/base",
            "overflow": null,
            "_model_module_version": "1.2.0",
            "_view_count": null,
            "flex_flow": null,
            "width": null,
            "min_width": null,
            "border": null,
            "align_items": null,
            "bottom": null,
            "_model_module": "@jupyter-widgets/base",
            "top": null,
            "grid_column": null,
            "overflow_y": null,
            "overflow_x": null,
            "grid_auto_flow": null,
            "grid_area": null,
            "grid_template_columns": null,
            "flex": null,
            "_model_name": "LayoutModel",
            "justify_items": null,
            "grid_row": null,
            "max_height": null,
            "align_content": null,
            "visibility": null,
            "align_self": null,
            "height": null,
            "min_height": null,
            "padding": null,
            "grid_auto_rows": null,
            "grid_gap": null,
            "max_width": null,
            "order": null,
            "_view_module_version": "1.2.0",
            "grid_template_areas": null,
            "object_position": null,
            "object_fit": null,
            "grid_auto_columns": null,
            "margin": null,
            "display": null,
            "left": null
          }
        },
        "6e5e02a4b22346bc8428d632d107b174": {
          "model_module": "@jupyter-widgets/controls",
          "model_name": "HBoxModel",
          "state": {
            "_view_name": "HBoxView",
            "_dom_classes": [],
            "_model_name": "HBoxModel",
            "_view_module": "@jupyter-widgets/controls",
            "_model_module_version": "1.5.0",
            "_view_count": null,
            "_view_module_version": "1.5.0",
            "box_style": "",
            "layout": "IPY_MODEL_2d78be5c421a4ee79613a29a5883c754",
            "_model_module": "@jupyter-widgets/controls",
            "children": [
              "IPY_MODEL_6c3b917b4d204e829bf0052611ecfc06",
              "IPY_MODEL_1540b2724c3843c986e7cf8bc892c4a1",
              "IPY_MODEL_e81d5e1520e24de7a695b6efd96d1855"
            ]
          }
        },
        "2d78be5c421a4ee79613a29a5883c754": {
          "model_module": "@jupyter-widgets/base",
          "model_name": "LayoutModel",
          "state": {
            "_view_name": "LayoutView",
            "grid_template_rows": null,
            "right": null,
            "justify_content": null,
            "_view_module": "@jupyter-widgets/base",
            "overflow": null,
            "_model_module_version": "1.2.0",
            "_view_count": null,
            "flex_flow": null,
            "width": null,
            "min_width": null,
            "border": null,
            "align_items": null,
            "bottom": null,
            "_model_module": "@jupyter-widgets/base",
            "top": null,
            "grid_column": null,
            "overflow_y": null,
            "overflow_x": null,
            "grid_auto_flow": null,
            "grid_area": null,
            "grid_template_columns": null,
            "flex": null,
            "_model_name": "LayoutModel",
            "justify_items": null,
            "grid_row": null,
            "max_height": null,
            "align_content": null,
            "visibility": null,
            "align_self": null,
            "height": null,
            "min_height": null,
            "padding": null,
            "grid_auto_rows": null,
            "grid_gap": null,
            "max_width": null,
            "order": null,
            "_view_module_version": "1.2.0",
            "grid_template_areas": null,
            "object_position": null,
            "object_fit": null,
            "grid_auto_columns": null,
            "margin": null,
            "display": null,
            "left": null
          }
        },
        "6c3b917b4d204e829bf0052611ecfc06": {
          "model_module": "@jupyter-widgets/controls",
          "model_name": "HTMLModel",
          "state": {
            "_view_name": "HTMLView",
            "style": "IPY_MODEL_d28164e92858448aa777c2f5dcc04ac2",
            "_dom_classes": [],
            "description": "",
            "_model_name": "HTMLModel",
            "placeholder": "​",
            "_view_module": "@jupyter-widgets/controls",
            "_model_module_version": "1.5.0",
            "value": "100%",
            "_view_count": null,
            "_view_module_version": "1.5.0",
            "description_tooltip": null,
            "_model_module": "@jupyter-widgets/controls",
            "layout": "IPY_MODEL_93de7567e802455a96ae9f5e2fe051b1"
          }
        },
        "1540b2724c3843c986e7cf8bc892c4a1": {
          "model_module": "@jupyter-widgets/controls",
          "model_name": "FloatProgressModel",
          "state": {
            "_view_name": "ProgressView",
            "style": "IPY_MODEL_b28696851fe5429496309d869d3a76b5",
            "_dom_classes": [],
            "description": "",
            "_model_name": "FloatProgressModel",
            "bar_style": "success",
            "max": 1000,
            "_view_module": "@jupyter-widgets/controls",
            "_model_module_version": "1.5.0",
            "value": 1000,
            "_view_count": null,
            "_view_module_version": "1.5.0",
            "orientation": "horizontal",
            "min": 0,
            "description_tooltip": null,
            "_model_module": "@jupyter-widgets/controls",
            "layout": "IPY_MODEL_796922c2e36943039a13080c2ff0c5fa"
          }
        },
        "e81d5e1520e24de7a695b6efd96d1855": {
          "model_module": "@jupyter-widgets/controls",
          "model_name": "HTMLModel",
          "state": {
            "_view_name": "HTMLView",
            "style": "IPY_MODEL_c3d4c9fe34bf4701b788f0164caf42f4",
            "_dom_classes": [],
            "description": "",
            "_model_name": "HTMLModel",
            "placeholder": "​",
            "_view_module": "@jupyter-widgets/controls",
            "_model_module_version": "1.5.0",
            "value": " 1000/1000 [01:25&lt;00:00, 11.79it/s]",
            "_view_count": null,
            "_view_module_version": "1.5.0",
            "description_tooltip": null,
            "_model_module": "@jupyter-widgets/controls",
            "layout": "IPY_MODEL_4f188da0043441af99186b3a3b54f395"
          }
        },
        "d28164e92858448aa777c2f5dcc04ac2": {
          "model_module": "@jupyter-widgets/controls",
          "model_name": "DescriptionStyleModel",
          "state": {
            "_view_name": "StyleView",
            "_model_name": "DescriptionStyleModel",
            "description_width": "",
            "_view_module": "@jupyter-widgets/base",
            "_model_module_version": "1.5.0",
            "_view_count": null,
            "_view_module_version": "1.2.0",
            "_model_module": "@jupyter-widgets/controls"
          }
        },
        "93de7567e802455a96ae9f5e2fe051b1": {
          "model_module": "@jupyter-widgets/base",
          "model_name": "LayoutModel",
          "state": {
            "_view_name": "LayoutView",
            "grid_template_rows": null,
            "right": null,
            "justify_content": null,
            "_view_module": "@jupyter-widgets/base",
            "overflow": null,
            "_model_module_version": "1.2.0",
            "_view_count": null,
            "flex_flow": null,
            "width": null,
            "min_width": null,
            "border": null,
            "align_items": null,
            "bottom": null,
            "_model_module": "@jupyter-widgets/base",
            "top": null,
            "grid_column": null,
            "overflow_y": null,
            "overflow_x": null,
            "grid_auto_flow": null,
            "grid_area": null,
            "grid_template_columns": null,
            "flex": null,
            "_model_name": "LayoutModel",
            "justify_items": null,
            "grid_row": null,
            "max_height": null,
            "align_content": null,
            "visibility": null,
            "align_self": null,
            "height": null,
            "min_height": null,
            "padding": null,
            "grid_auto_rows": null,
            "grid_gap": null,
            "max_width": null,
            "order": null,
            "_view_module_version": "1.2.0",
            "grid_template_areas": null,
            "object_position": null,
            "object_fit": null,
            "grid_auto_columns": null,
            "margin": null,
            "display": null,
            "left": null
          }
        },
        "b28696851fe5429496309d869d3a76b5": {
          "model_module": "@jupyter-widgets/controls",
          "model_name": "ProgressStyleModel",
          "state": {
            "_view_name": "StyleView",
            "_model_name": "ProgressStyleModel",
            "description_width": "",
            "_view_module": "@jupyter-widgets/base",
            "_model_module_version": "1.5.0",
            "_view_count": null,
            "_view_module_version": "1.2.0",
            "bar_color": null,
            "_model_module": "@jupyter-widgets/controls"
          }
        },
        "796922c2e36943039a13080c2ff0c5fa": {
          "model_module": "@jupyter-widgets/base",
          "model_name": "LayoutModel",
          "state": {
            "_view_name": "LayoutView",
            "grid_template_rows": null,
            "right": null,
            "justify_content": null,
            "_view_module": "@jupyter-widgets/base",
            "overflow": null,
            "_model_module_version": "1.2.0",
            "_view_count": null,
            "flex_flow": null,
            "width": null,
            "min_width": null,
            "border": null,
            "align_items": null,
            "bottom": null,
            "_model_module": "@jupyter-widgets/base",
            "top": null,
            "grid_column": null,
            "overflow_y": null,
            "overflow_x": null,
            "grid_auto_flow": null,
            "grid_area": null,
            "grid_template_columns": null,
            "flex": null,
            "_model_name": "LayoutModel",
            "justify_items": null,
            "grid_row": null,
            "max_height": null,
            "align_content": null,
            "visibility": null,
            "align_self": null,
            "height": null,
            "min_height": null,
            "padding": null,
            "grid_auto_rows": null,
            "grid_gap": null,
            "max_width": null,
            "order": null,
            "_view_module_version": "1.2.0",
            "grid_template_areas": null,
            "object_position": null,
            "object_fit": null,
            "grid_auto_columns": null,
            "margin": null,
            "display": null,
            "left": null
          }
        },
        "c3d4c9fe34bf4701b788f0164caf42f4": {
          "model_module": "@jupyter-widgets/controls",
          "model_name": "DescriptionStyleModel",
          "state": {
            "_view_name": "StyleView",
            "_model_name": "DescriptionStyleModel",
            "description_width": "",
            "_view_module": "@jupyter-widgets/base",
            "_model_module_version": "1.5.0",
            "_view_count": null,
            "_view_module_version": "1.2.0",
            "_model_module": "@jupyter-widgets/controls"
          }
        },
        "4f188da0043441af99186b3a3b54f395": {
          "model_module": "@jupyter-widgets/base",
          "model_name": "LayoutModel",
          "state": {
            "_view_name": "LayoutView",
            "grid_template_rows": null,
            "right": null,
            "justify_content": null,
            "_view_module": "@jupyter-widgets/base",
            "overflow": null,
            "_model_module_version": "1.2.0",
            "_view_count": null,
            "flex_flow": null,
            "width": null,
            "min_width": null,
            "border": null,
            "align_items": null,
            "bottom": null,
            "_model_module": "@jupyter-widgets/base",
            "top": null,
            "grid_column": null,
            "overflow_y": null,
            "overflow_x": null,
            "grid_auto_flow": null,
            "grid_area": null,
            "grid_template_columns": null,
            "flex": null,
            "_model_name": "LayoutModel",
            "justify_items": null,
            "grid_row": null,
            "max_height": null,
            "align_content": null,
            "visibility": null,
            "align_self": null,
            "height": null,
            "min_height": null,
            "padding": null,
            "grid_auto_rows": null,
            "grid_gap": null,
            "max_width": null,
            "order": null,
            "_view_module_version": "1.2.0",
            "grid_template_areas": null,
            "object_position": null,
            "object_fit": null,
            "grid_auto_columns": null,
            "margin": null,
            "display": null,
            "left": null
          }
        }
      }
    }
  },
  "cells": [
    {
      "cell_type": "markdown",
      "metadata": {
        "id": "view-in-github",
        "colab_type": "text"
      },
      "source": [
        "<a href=\"https://colab.research.google.com/github/Dheeraj3reddy/hello-world/blob/master/IITM_RL_Final_Project_Release.ipynb\" target=\"_parent\"><img src=\"https://colab.research.google.com/assets/colab-badge.svg\" alt=\"Open In Colab\"/></a>"
      ]
    },
    {
      "cell_type": "markdown",
      "metadata": {
        "id": "vGU0-M8B5I7c"
      },
      "source": [
        "# IITM RL FINAL PROJECT\n",
        "\n",
        "## Problem - bsuite \n",
        "\n",
        "This notebook uses an open source reinforcement learning benchmark known as bsuite. https://github.com/deepmind/bsuite\n",
        "\n",
        "bsuite is a collection of carefully-designed experiments that investigate core capabilities of a reinforcement learning agent.\n",
        "\n",
        "Your task is to use any reinforcement learning techniques at your disposal to get high scores on the environments specified.\n",
        "\n",
        "**Note**: Since the course is on Reinforcement Learning,  please limit yourself to using traditional Reinforcement Learning algorithms, \n",
        "\n",
        "**Do not use deep reinforcement learning.**\n",
        "\n",
        "# How to use this notebook? 📝\n",
        "\n",
        "- This is a shared template and any edits you make here will not be saved. **You\n",
        "should make a copy in your own drive**. Click the \"File\" menu (top-left), then \"Save a Copy in Drive\". You will be working in your copy however you like.\n",
        "\n",
        "<p style=\"text-align: center\"><img src=\"https://gitlab.aicrowd.com/aicrowd/assets/-/raw/master/notebook/aicrowd_notebook_submission_flow.png?inline=false\" alt=\"notebook overview\" style=\"width: 650px;\"/></p>\n",
        "\n",
        "- **Update the config parameters**. You can define the common variables here\n",
        "\n",
        "Variable | Description\n",
        "--- | ---\n",
        "`AICROWD_RESULTS_DIR` | Path to write the output to.\n",
        "`AICROWD_ASSETS_DIR` | In case your notebook needs additional files (like model weights, etc.,), you can add them to a directory and specify the path to the directory here (please specify relative path). The contents of this directory will be sent to AIcrowd for evaluation.\n",
        "`AICROWD_API_KEY` | In order to submit your code to AIcrowd, you need to provide your account's API key. This key is available at https://www.aicrowd.com/participants/me\n",
        "\n",
        "- **Installing packages**. Please use the [Install packages 🗃](#install-packages-) section to install the packages"
      ]
    },
    {
      "cell_type": "code",
      "metadata": {
        "colab": {
          "base_uri": "https://localhost:8080/"
        },
        "id": "1Byw-jeFUlrF",
        "outputId": "e12e80eb-4151-4cbd-c724-750daa46fd63"
      },
      "source": [
        "!pip install -q aicrowd-cli"
      ],
      "execution_count": null,
      "outputs": [
        {
          "output_type": "stream",
          "text": [
            "\u001b[K     |████████████████████████████████| 61kB 3.5MB/s \n",
            "\u001b[K     |████████████████████████████████| 204kB 7.0MB/s \n",
            "\u001b[K     |████████████████████████████████| 81kB 6.1MB/s \n",
            "\u001b[K     |████████████████████████████████| 163kB 9.3MB/s \n",
            "\u001b[K     |████████████████████████████████| 61kB 4.4MB/s \n",
            "\u001b[K     |████████████████████████████████| 61kB 5.0MB/s \n",
            "\u001b[K     |████████████████████████████████| 51kB 4.9MB/s \n",
            "\u001b[K     |████████████████████████████████| 71kB 5.4MB/s \n",
            "\u001b[31mERROR: google-colab 1.0.0 has requirement requests~=2.23.0, but you'll have requests 2.25.1 which is incompatible.\u001b[0m\n",
            "\u001b[31mERROR: datascience 0.10.6 has requirement folium==0.2.1, but you'll have folium 0.8.3 which is incompatible.\u001b[0m\n",
            "\u001b[?25h"
          ],
          "name": "stdout"
        }
      ]
    },
    {
      "cell_type": "markdown",
      "metadata": {
        "id": "2j2VFISn5I7j"
      },
      "source": [
        "# AIcrowd Runtime Configuration 🧷\n",
        "\n",
        "Get login API key from https://www.aicrowd.com/participants/me\n"
      ]
    },
    {
      "cell_type": "code",
      "metadata": {
        "id": "bD-ipReq5I7j"
      },
      "source": [
        "import os\n",
        "\n",
        "AICROWD_RESULTS_DIR = os.getenv(\"OUTPUTS_DIR\", \"results\")\n",
        "os.environ[\"RESULTS_DIR\"] = AICROWD_RESULTS_DIR\n",
        "API_KEY = \"c486fada045b25f684460d5da87749d1\""
      ],
      "execution_count": null,
      "outputs": []
    },
    {
      "cell_type": "code",
      "metadata": {
        "colab": {
          "base_uri": "https://localhost:8080/"
        },
        "id": "FZj1bg7kUqL0",
        "outputId": "0f8bd559-e871-45ba-c365-4cb806edf785"
      },
      "source": [
        "!aicrowd login --api-key $API_KEY"
      ],
      "execution_count": null,
      "outputs": [
        {
          "output_type": "stream",
          "text": [
            "\u001b[32mAPI Key valid\u001b[0m\n",
            "\u001b[32mSaved API Key successfully!\u001b[0m\n"
          ],
          "name": "stdout"
        }
      ]
    },
    {
      "cell_type": "markdown",
      "metadata": {
        "id": "BaPR_bc65I7g"
      },
      "source": [
        "# Install packages 🗃\n",
        "\n",
        "Please add all pacakage installations in this section"
      ]
    },
    {
      "cell_type": "code",
      "metadata": {
        "colab": {
          "base_uri": "https://localhost:8080/"
        },
        "id": "5yq9gIrK5I7h",
        "outputId": "877d0c00-8d5d-45ab-dae5-548c75dae0c3"
      },
      "source": [
        "!pip install git+http://gitlab.aicrowd.com/nimishsantosh107/bsuite.git\n",
        "!pip install tabulate\n",
        "!pip install tqdm\n",
        "\n",
        "## Add any other installations you need here"
      ],
      "execution_count": null,
      "outputs": [
        {
          "output_type": "stream",
          "text": [
            "Collecting git+http://gitlab.aicrowd.com/nimishsantosh107/bsuite.git\n",
            "  Cloning http://gitlab.aicrowd.com/nimishsantosh107/bsuite.git to /tmp/pip-req-build-q8i5o3el\n",
            "  Running command git clone -q http://gitlab.aicrowd.com/nimishsantosh107/bsuite.git /tmp/pip-req-build-q8i5o3el\n",
            "Requirement already satisfied: absl-py in /usr/local/lib/python3.7/dist-packages (from bsuite==0.3.5) (0.12.0)\n",
            "Collecting dm_env\n",
            "  Downloading https://files.pythonhosted.org/packages/fa/84/c96b6544b8a2cfefc663b7dbd7fc0c2f2c3b6cbf68b0171775693bda2a66/dm_env-1.4-py3-none-any.whl\n",
            "Collecting frozendict\n",
            "  Downloading https://files.pythonhosted.org/packages/6d/29/edb363cf898269cb322d0186baa0bd02874a69691d9dec8728b644fbcedc/frozendict-2.0.2-py3-none-any.whl\n",
            "Requirement already satisfied: gym in /usr/local/lib/python3.7/dist-packages (from bsuite==0.3.5) (0.17.3)\n",
            "Requirement already satisfied: matplotlib in /usr/local/lib/python3.7/dist-packages (from bsuite==0.3.5) (3.2.2)\n",
            "Requirement already satisfied: numpy in /usr/local/lib/python3.7/dist-packages (from bsuite==0.3.5) (1.19.5)\n",
            "Requirement already satisfied: pandas in /usr/local/lib/python3.7/dist-packages (from bsuite==0.3.5) (1.1.5)\n",
            "Requirement already satisfied: plotnine in /usr/local/lib/python3.7/dist-packages (from bsuite==0.3.5) (0.6.0)\n",
            "Requirement already satisfied: scipy in /usr/local/lib/python3.7/dist-packages (from bsuite==0.3.5) (1.4.1)\n",
            "Requirement already satisfied: scikit-image in /usr/local/lib/python3.7/dist-packages (from bsuite==0.3.5) (0.16.2)\n",
            "Requirement already satisfied: six in /usr/local/lib/python3.7/dist-packages (from bsuite==0.3.5) (1.15.0)\n",
            "Requirement already satisfied: termcolor in /usr/local/lib/python3.7/dist-packages (from bsuite==0.3.5) (1.1.0)\n",
            "Requirement already satisfied: dm-tree in /usr/local/lib/python3.7/dist-packages (from dm_env->bsuite==0.3.5) (0.1.6)\n",
            "Requirement already satisfied: pyglet<=1.5.0,>=1.4.0 in /usr/local/lib/python3.7/dist-packages (from gym->bsuite==0.3.5) (1.5.0)\n",
            "Requirement already satisfied: cloudpickle<1.7.0,>=1.2.0 in /usr/local/lib/python3.7/dist-packages (from gym->bsuite==0.3.5) (1.3.0)\n",
            "Requirement already satisfied: cycler>=0.10 in /usr/local/lib/python3.7/dist-packages (from matplotlib->bsuite==0.3.5) (0.10.0)\n",
            "Requirement already satisfied: pyparsing!=2.0.4,!=2.1.2,!=2.1.6,>=2.0.1 in /usr/local/lib/python3.7/dist-packages (from matplotlib->bsuite==0.3.5) (2.4.7)\n",
            "Requirement already satisfied: kiwisolver>=1.0.1 in /usr/local/lib/python3.7/dist-packages (from matplotlib->bsuite==0.3.5) (1.3.1)\n",
            "Requirement already satisfied: python-dateutil>=2.1 in /usr/local/lib/python3.7/dist-packages (from matplotlib->bsuite==0.3.5) (2.8.1)\n",
            "Requirement already satisfied: pytz>=2017.2 in /usr/local/lib/python3.7/dist-packages (from pandas->bsuite==0.3.5) (2018.9)\n",
            "Requirement already satisfied: descartes>=1.1.0 in /usr/local/lib/python3.7/dist-packages (from plotnine->bsuite==0.3.5) (1.1.0)\n",
            "Requirement already satisfied: patsy>=0.4.1 in /usr/local/lib/python3.7/dist-packages (from plotnine->bsuite==0.3.5) (0.5.1)\n",
            "Requirement already satisfied: mizani>=0.6.0 in /usr/local/lib/python3.7/dist-packages (from plotnine->bsuite==0.3.5) (0.6.0)\n",
            "Requirement already satisfied: statsmodels>=0.9.0 in /usr/local/lib/python3.7/dist-packages (from plotnine->bsuite==0.3.5) (0.10.2)\n",
            "Requirement already satisfied: imageio>=2.3.0 in /usr/local/lib/python3.7/dist-packages (from scikit-image->bsuite==0.3.5) (2.4.1)\n",
            "Requirement already satisfied: networkx>=2.0 in /usr/local/lib/python3.7/dist-packages (from scikit-image->bsuite==0.3.5) (2.5.1)\n",
            "Requirement already satisfied: PyWavelets>=0.4.0 in /usr/local/lib/python3.7/dist-packages (from scikit-image->bsuite==0.3.5) (1.1.1)\n",
            "Requirement already satisfied: pillow>=4.3.0 in /usr/local/lib/python3.7/dist-packages (from scikit-image->bsuite==0.3.5) (7.1.2)\n",
            "Requirement already satisfied: future in /usr/local/lib/python3.7/dist-packages (from pyglet<=1.5.0,>=1.4.0->gym->bsuite==0.3.5) (0.16.0)\n",
            "Requirement already satisfied: palettable in /usr/local/lib/python3.7/dist-packages (from mizani>=0.6.0->plotnine->bsuite==0.3.5) (3.3.0)\n",
            "Requirement already satisfied: decorator<5,>=4.3 in /usr/local/lib/python3.7/dist-packages (from networkx>=2.0->scikit-image->bsuite==0.3.5) (4.4.2)\n",
            "Building wheels for collected packages: bsuite\n",
            "  Building wheel for bsuite (setup.py) ... \u001b[?25l\u001b[?25hdone\n",
            "  Created wheel for bsuite: filename=bsuite-0.3.5-cp37-none-any.whl size=252043 sha256=7afbcb796811b3ebc48ec75fcc2e4286f95d8545f19d1086b36655581704b613\n",
            "  Stored in directory: /tmp/pip-ephem-wheel-cache-63k458yn/wheels/61/ea/06/77c82c07765fb8608e50e6c66bc566fa6d113c725bc6937e7b\n",
            "Successfully built bsuite\n",
            "Installing collected packages: dm-env, frozendict, bsuite\n",
            "Successfully installed bsuite-0.3.5 dm-env-1.4 frozendict-2.0.2\n",
            "Requirement already satisfied: tabulate in /usr/local/lib/python3.7/dist-packages (0.8.9)\n",
            "Requirement already satisfied: tqdm in /usr/local/lib/python3.7/dist-packages (4.60.0)\n"
          ],
          "name": "stdout"
        }
      ]
    },
    {
      "cell_type": "markdown",
      "metadata": {
        "id": "vHwAh4zAUxxJ"
      },
      "source": [
        "# Import packages"
      ]
    },
    {
      "cell_type": "code",
      "metadata": {
        "id": "bXe8ZvdcQ8mr"
      },
      "source": [
        "import gym\n",
        "import warnings\n",
        "\n",
        "import numpy as np\n",
        "import pandas as pd\n",
        "import plotnine as gg\n",
        "from tqdm.notebook import tqdm\n",
        "\n",
        "import bsuite\n",
        "from bsuite.aicrowd import environments\n",
        "from bsuite.aicrowd.runner import Runner\n",
        "from bsuite.aicrowd.analysis import Analyzer\n",
        "\n",
        "pd.options.mode.chained_assignment = None\n",
        "gg.theme_set(gg.theme_bw(base_size=16, base_family='serif'))\n",
        "gg.theme_update(figure_size=(3, 1), panel_spacing_x=0.5, panel_spacing_y=0.5)\n",
        "warnings.filterwarnings('ignore')"
      ],
      "execution_count": null,
      "outputs": []
    },
    {
      "cell_type": "markdown",
      "metadata": {
        "id": "GBrvjPvuA_-t"
      },
      "source": [
        "# **Agent Class**\n",
        "\n",
        "You can modify the AGENT TEMPLATE below and implement the logic of your agent. Your agent must implement a few methods that will be called by the `Runner` class.\n",
        "* `__init__` - put any initialization code here.\n",
        "* `get_action` - takes in a `state` and returns an `action`.\n",
        "* `learn` - takes in `(state, action, reward, next_state)`, implements the learning logic.\n",
        "* `get_state` - takes in a raw `observation` directly from the env, discretizes it and returns a `state`.\n",
        "\n",
        "In addition to these, you may implement other methods which can be called by the above methods.\n",
        "\n",
        "Since there are multiple environments, you may need unique hyper parameters for each environment. Instantiate the agent while passing in the hyper parameters in a dictionary using the `agent_config` parameter so that each environment can use different hyper parameters for the agent while using a single `Agent` class for all of them.  You can use any names for the keys in the config dictionary.   \n",
        "\n",
        "An example `RandomAgent` is given below."
      ]
    },
    {
      "cell_type": "code",
      "metadata": {
        "id": "RKO-baWEBBhf"
      },
      "source": [
        "# *** YOU CAN EDIT THIS CELL ***\n",
        "# AGENT TEMPLATE\n",
        "class Agent:\n",
        "    def __init__(self, agent_config):\n",
        "        self.config = agent_config\n",
        "        self.env_name = self.config['env_name']\n",
        "        self.n_states=self.config['n_states']\n",
        "        self.iter_max=self.config['iter_max']\n",
        "        self.initial_lr=self.config['initial_lr']\n",
        "        self.min_lr=self.config['min_lr']\n",
        "        self.gamma=self.config['gamma']\n",
        "        self.t_max=self.config['t_max']\n",
        "        self.eps=self.config['eps']\n",
        "        self.q_table = self.config['q_table']\n",
        "        self.env=self.config['env']\n",
        "        self.env1=gym.make('MountainCar-v0')\n",
        "        self.i=0\n",
        "        self.j=0\n",
        "        pass\n",
        "\n",
        "    def get_action(self, state):\n",
        "        '''\n",
        "        PARAMETERS  : \n",
        "            - state - discretized 'state'\n",
        "        RETURNS     : \n",
        "            - action - 'action' to be taken\n",
        "        '''\n",
        "        \n",
        "        if np.random.uniform(0, 1) < self.eps:\n",
        "            return np.random.choice(self.env.action_space.n)\n",
        "        else:\n",
        "            logits = self.q_table[state[0]][state[1]]\n",
        "            logits_exp = np.exp(logits)\n",
        "            probs = logits_exp / np.sum(logits_exp)\n",
        "            action = np.random.choice(self.env.action_space.n, p=probs)\n",
        "        return action\n",
        "    \n",
        "    def learn(self, state, action, reward, next_state):\n",
        "        '''\n",
        "        PARAMETERS  : \n",
        "            - state - discretized 'state'\n",
        "            - action - 'action' performed in 'state'\n",
        "            - reward - 'reward' received due to action taken\n",
        "            - next_state - discretized 'next_state'\n",
        "        RETURNS     : \n",
        "            - NIL\n",
        "        '''\n",
        "        \n",
        "       \n",
        "        #print(eta,i,j)\n",
        "        self.q_table[state[0]][state[1]][action] = self.q_table[state[0]][state[1]][action] + eta * (reward + self.gamma *  np.max(self.q_table[next_state[0]][next_state[1]]) - self.q_table[state[0]][state[1]][action])\n",
        "\n",
        "    def get_state(self, obs):\n",
        "        '''\n",
        "        PARAMETERS  : \n",
        "            - observation - raw 'observation' from environment\n",
        "        RETURNS     : \n",
        "            - state - discretized 'state' from raw 'observation'\n",
        "        '''\n",
        "        obs=obs.T\n",
        "        env_low = self.env1.observation_space.low\n",
        "        env_high = self.env1.observation_space.high\n",
        "        env_dx = (env_high - env_low) / n_states\n",
        "        a = int((obs[0] - env_low[0])/env_dx[0])\n",
        "        b = int((obs[1] - env_low[1])/env_dx[1])\n",
        "        state= [ a,b,obs[2]]\n",
        "\n",
        "        return state\n",
        "\n"
      ],
      "execution_count": null,
      "outputs": []
    },
    {
      "cell_type": "code",
      "metadata": {
        "id": "kSVqoF2eYlc0"
      },
      "source": [
        "# *** YOU CAN EDIT THIS CELL ***\n",
        "# DO NOT rename the config dictionaries as the evaluator references them. However, you may use any names for the keys in them.\n",
        "catch_config = {\"env_name\": \"catch\"}\n",
        "catch_noise_config = {\"env_name\": \"catch_noise\"}\n",
        "cartpole_config = {\"env_name\": \"cartpole\"}\n",
        "cartpole_noise_config = {\"env_name\": \"cartpole_noise\"}\n",
        "mountaincar_config = {\"env_name\": \"mountaincar\"}\n",
        "mountaincar_noise_config = {\"env_name\": \"mountaincar_noise\"}"
      ],
      "execution_count": null,
      "outputs": []
    },
    {
      "cell_type": "code",
      "metadata": {
        "id": "HKDasf9uJ616"
      },
      "source": [
        "# *** YOU CAN EDIT THIS CELL ***\n",
        "# EXAMPLE\n",
        "class RandomAgent:\n",
        "    def __init__(self, agent_config={}):\n",
        "        self.config = agent_config\n",
        "        self.env_name = self.config['env_name']\n",
        "\n",
        "    def get_action(self, state):\n",
        "        action = np.random.choice(2)\n",
        "        return action\n",
        "    \n",
        "    def learn(self, state, action, reward, next_state):\n",
        "        if ('BAR' in self.config):\n",
        "            if (self.config['BAR']):\n",
        "                self.config['FOO'] += 1\n",
        "\n",
        "    def get_state(self, observation):\n",
        "        # In this function you're allowed to use \n",
        "        # the environment name for observation preprocessing\n",
        "        # Do not use it anywhere else\n",
        "        if self.env_name == 'catch':\n",
        "          state = observation\n",
        "        elif self.env_name == 'catch_noise':\n",
        "          state = observation\n",
        "        elif self.env_name == 'cartpole':\n",
        "          state = observation\n",
        "        elif self.env_name == 'cartpole_noise':\n",
        "          state = observation\n",
        "        elif self.env_name == 'mountaincar':\n",
        "          state = observation\n",
        "        elif self.env_name == 'mountaincar_noise':\n",
        "          state = observation\n",
        "        else:\n",
        "          raise NotImplementedError\n",
        "\n",
        "        return state\n",
        "\n",
        "env1_config = {\n",
        "    \"env_name\": 'cartpole',\n",
        "    'FOO': 0.1,\n",
        "    'BAR': True\n",
        "}\n",
        "\n",
        "env2_config = {\n",
        "    \"env_name\": 'cartpole',\n",
        "    'FOO': 0.2,\n",
        "    'BAR': False\n",
        "}\n",
        "\n",
        "randomAgent1 = RandomAgent(agent_config=env1_config)\n",
        "randomAgent2 = RandomAgent(agent_config=env2_config)"
      ],
      "execution_count": null,
      "outputs": []
    },
    {
      "cell_type": "markdown",
      "metadata": {
        "id": "C1VT6KbJ2hap"
      },
      "source": [
        "# **Playing with the Environment**\n",
        "\n",
        "#### **Instantiating the environment** :\n",
        "You can create an environment by calling the following function:  \n",
        "`environments.load_env(ENV_ID)` - RETURNS: `env`  \n",
        "where, ENV_ID can be ONE of the following:\n",
        "* `environments.CATCH`\n",
        "* `environments.CATCH_NOISE`\n",
        "* `environments.CARTPOLE`\n",
        "* `environments.CARTPOLE_NOISE`\n",
        "* `environments.MOUNTAINCAR`\n",
        "* `environments.MOUNTAINCAR_NOISE`\n",
        "\n",
        "The `NOISE` environments add a scaled random noise to the `reward`.\n",
        "<br/>\n",
        "\n",
        "#### **Runnning the environment** :\n",
        "There are certain methods required to run the environments. The interface is very similar to OpenAI Gym's interfaces. Fore more information, read the OpenAI documentation [here](https://gym.openai.com/docs/).\n",
        "\n",
        "`env.reset()` - RETURNS: `observation`  \n",
        "`env.step(action)`  - RETURNS: `(next_observation, reward, done, info[NOT USED])`\n",
        "\n",
        "There are also a few useful properties within the environments:\n",
        "\n",
        "* `env.action_space.n` - total number of possible actions. eg: if 'n' is 3, then the possible actions are `[0, 1, 2]`\n",
        "* `env.observation_space.shape` -  the shape of the observation.\n",
        "* `env.bsuite_num_episodes` -  the pre-specified number of episodes which will be run during evaluation (unique for each environment).\n",
        "\n",
        "##### *ONLY IN CATCH / CATCH_NOISE*\n",
        "* `env.observation_space.high` -  the upper limit for every index in the observation.\n",
        "* `env.observation_space.low` -  the lower limit for every index of the observation.\n",
        "<br/>\n"
      ]
    },
    {
      "cell_type": "markdown",
      "metadata": {
        "id": "j6Rn-yoU5I7o"
      },
      "source": [
        "## **Environment Observation Space Limits:**\n",
        "\n",
        "The limits for the observation space (minimum and maximum) for all the environments are given in the table below:\n",
        "\n",
        "| Environments                        | Limits                                                                      |\n",
        "|-------------------------------------|-----------------------------------------------------------------------------|\n",
        "| CATCH <br/>  CATCH_NOISE            | MIN: use `env.observation_space.low` <br/> MAX: use `env.observation_space.high` |\n",
        "| CARTPOLE <br/> CARTPOLE_NOISE       | MIN: `[-1. -5., -1., -1., -5., 0.]` <br/> MAX: `[ 1.,  5.,  1.,  1.,  5., 1.]` |\n",
        "| MOUNTAINCAR <br/> MOUNTAINCAR_NOISE | MIN: `[-1.2, -0.07, 0.]` <br/> MAX: `[ 0.6,  0.07,  1.]`                                 |\n",
        "\n",
        "[NOTE] Use this code cell to play around and get used to the environments. However, the `Runner` class below will be used to evaluate your agent."
      ]
    },
    {
      "cell_type": "code",
      "metadata": {
        "id": "gvfNKtUOJ2ho",
        "colab": {
          "base_uri": "https://localhost:8080/",
          "height": 151,
          "referenced_widgets": [
            "3ed1b224367f4022bfe5cffaae09a5c4",
            "46b69a73df4e49d5b025a4af92260ae1",
            "c0d4f5b06ab54523b8e4a42035c84bf0",
            "9a093647d40f4fddba4823a91dbfcd83",
            "4320a3c371d34f8b839ca47f67188338",
            "0bcf43a5f4164da0ad7f0dab2313ed28",
            "c4b9b6e66a4a4635a2b749c6308ea610",
            "9a5464f1cc634015a4be30fb0e5df6fa",
            "fe99d60827f54e898e34735d351acf4d",
            "bff215747b72419c983fd58452f8cd48",
            "7c53b565034f4000a46096ab50e39f95"
          ]
        },
        "outputId": "7469d602-0f7d-49fe-9360-8eca9bf86dd1"
      },
      "source": [
        "# *** YOU CAN EDIT THIS CELL ***\n",
        "# TEST AREA\n",
        "env = environments.load_env(environments.CARTPOLE)  # replace 'environments.CARTPOLE' with other environments\n",
        "\n",
        "agent = RandomAgent(agent_config={\"env_name\": 'cartpole'})    # replace with 'RandomAgent()' to use your custom agent\n",
        "\n",
        "NUM_EPISODES = 10                                   # replace with 'env.bsuite_num_episodes' to run for pre-specified number of episodes\n",
        "for episode_n in tqdm(range(NUM_EPISODES)):\n",
        "    done = False\n",
        "    episode_reward = 0\n",
        "    episode_moves = 0\n",
        " \n",
        "    observation = env.reset()\n",
        "    state = agent.get_state(observation)\n",
        "\n",
        "    while not done:\n",
        "        action = agent.get_action(state)\n",
        "\n",
        "        next_observation, reward, done, _ = env.step(action)\n",
        "        next_state = agent.get_state(next_observation)\n",
        "\n",
        "        agent.learn(state, action, reward, next_state)\n",
        "\n",
        "        state = next_state\n",
        "\n",
        "        episode_reward += reward\n",
        "        episode_moves += 1\n",
        "\n",
        "    if (((episode_n+1) % 2) == 0): \n",
        "        print(\"EPISODE: \",episode_n+1,\"\\tREWARD: \",episode_reward,\"\\tEPISODE_LENGTH: \",episode_moves)"
      ],
      "execution_count": null,
      "outputs": [
        {
          "output_type": "stream",
          "text": [
            "\u001b[1m\u001b[37mLoaded bsuite_id: cartpole/0.\u001b[0m\n"
          ],
          "name": "stdout"
        },
        {
          "output_type": "display_data",
          "data": {
            "application/vnd.jupyter.widget-view+json": {
              "model_id": "3ed1b224367f4022bfe5cffaae09a5c4",
              "version_minor": 0,
              "version_major": 2
            },
            "text/plain": [
              "  0%|          | 0/10 [00:00<?, ?it/s]"
            ]
          },
          "metadata": {
            "tags": []
          }
        },
        {
          "output_type": "stream",
          "text": [
            "EPISODE:  2 \tREWARD:  39.0 \tEPISODE_LENGTH:  40\n",
            "EPISODE:  4 \tREWARD:  51.0 \tEPISODE_LENGTH:  52\n",
            "EPISODE:  6 \tREWARD:  44.0 \tEPISODE_LENGTH:  45\n",
            "EPISODE:  8 \tREWARD:  39.0 \tEPISODE_LENGTH:  40\n",
            "EPISODE:  10 \tREWARD:  37.0 \tEPISODE_LENGTH:  38\n"
          ],
          "name": "stdout"
        }
      ]
    },
    {
      "cell_type": "markdown",
      "metadata": {
        "id": "gAvLTbG54kjm"
      },
      "source": [
        "## Point to the Agent Class you'll use for the final score"
      ]
    },
    {
      "cell_type": "code",
      "metadata": {
        "id": "WSoj2BqL4iih"
      },
      "source": [
        "RLAgent = RandomAgent"
      ],
      "execution_count": null,
      "outputs": []
    },
    {
      "cell_type": "markdown",
      "metadata": {
        "id": "-HmaWuWSDhuX"
      },
      "source": [
        "# **Evaluating the Agent on all the Environments**\n",
        "\n",
        "* The following cells will take care of running your agent on each environment and aggregating the results in csv files. In each of the following cells, the `agent_config` parameter is already set to use the corresponding config dictionary for that environment. DO NOT EDIT THIS.\n",
        "* Feel free to modify the `LOG_INTERVAL` parameter to change the interval between episodes for logging.  \n",
        "* Please do not modify any other contents in each of the cells.  "
      ]
    },
    {
      "cell_type": "code",
      "metadata": {
        "id": "eaVazKub5Ukk"
      },
      "source": [
        "LOG_INTERVAL = 100"
      ],
      "execution_count": null,
      "outputs": []
    },
    {
      "cell_type": "code",
      "metadata": {
        "id": "9wlYhvmvYjX5",
        "colab": {
          "base_uri": "https://localhost:8080/",
          "height": 1000,
          "referenced_widgets": [
            "c944d6691d8846299c230c668d7fe77b",
            "06690ec2c9124c3eb058b8b9fec43398",
            "ac6f8eaf07874f3a8efe6eea3fc1ecb4",
            "d86e8a5e14cc4785af75583d9064c3e8",
            "47c5d4d72c014ada8fe0ee8827bd00fe",
            "14d2b49245504112874237daa9c94ea5",
            "0f35ca16ea5b46f79dd1b40651b968ff",
            "c2a386d898cd43f98f93087abd6606c7",
            "b02a5dcba3cd403da16c0adc6bf5f2fc",
            "58612ef3371646c195922c00ef37ed48",
            "68b0e5cd667e4b369044fedb8b74e9b7"
          ]
        },
        "outputId": "c185295b-5bbc-4a5f-83a2-827cdd25710a"
      },
      "source": [
        "runner = Runner(\n",
        "    agent = RLAgent(agent_config=catch_config),\n",
        "    env_id = environments.CATCH,\n",
        "    log_interval = LOG_INTERVAL,\n",
        ")\n",
        "runner.play_episodes()"
      ],
      "execution_count": null,
      "outputs": [
        {
          "output_type": "stream",
          "text": [
            "\u001b[1m\u001b[37mLoaded bsuite_id: catch/0.\u001b[0m\n",
            "\u001b[1m\u001b[33mLogging results to CSV file for each bsuite_id in results.\u001b[0m\n"
          ],
          "name": "stdout"
        },
        {
          "output_type": "display_data",
          "data": {
            "application/vnd.jupyter.widget-view+json": {
              "model_id": "c944d6691d8846299c230c668d7fe77b",
              "version_minor": 0,
              "version_major": 2
            },
            "text/plain": [
              "  0%|          | 0/10000 [00:00<?, ?it/s]"
            ]
          },
          "metadata": {
            "tags": []
          }
        },
        {
          "output_type": "stream",
          "text": [
            "EPISODE:  100 \tREWARD:  -1.0 \tMEAN_REWARD:  -0.52 \tEPISODE_LENGTH:  9\n",
            "EPISODE:  200 \tREWARD:  -1.0 \tMEAN_REWARD:  -0.46 \tEPISODE_LENGTH:  9\n",
            "EPISODE:  300 \tREWARD:  -1.0 \tMEAN_REWARD:  -0.6 \tEPISODE_LENGTH:  9\n",
            "EPISODE:  400 \tREWARD:  -1.0 \tMEAN_REWARD:  -0.62 \tEPISODE_LENGTH:  9\n",
            "EPISODE:  500 \tREWARD:  -1.0 \tMEAN_REWARD:  -0.7 \tEPISODE_LENGTH:  9\n",
            "EPISODE:  600 \tREWARD:  -1.0 \tMEAN_REWARD:  -0.64 \tEPISODE_LENGTH:  9\n",
            "EPISODE:  700 \tREWARD:  -1.0 \tMEAN_REWARD:  -0.74 \tEPISODE_LENGTH:  9\n",
            "EPISODE:  800 \tREWARD:  -1.0 \tMEAN_REWARD:  -0.46 \tEPISODE_LENGTH:  9\n",
            "EPISODE:  900 \tREWARD:  -1.0 \tMEAN_REWARD:  -0.68 \tEPISODE_LENGTH:  9\n",
            "EPISODE:  1000 \tREWARD:  -1.0 \tMEAN_REWARD:  -0.58 \tEPISODE_LENGTH:  9\n",
            "EPISODE:  1100 \tREWARD:  -1.0 \tMEAN_REWARD:  -0.56 \tEPISODE_LENGTH:  9\n",
            "EPISODE:  1200 \tREWARD:  -1.0 \tMEAN_REWARD:  -0.6 \tEPISODE_LENGTH:  9\n",
            "EPISODE:  1300 \tREWARD:  -1.0 \tMEAN_REWARD:  -0.58 \tEPISODE_LENGTH:  9\n",
            "EPISODE:  1400 \tREWARD:  1.0 \tMEAN_REWARD:  -0.5 \tEPISODE_LENGTH:  9\n",
            "EPISODE:  1500 \tREWARD:  -1.0 \tMEAN_REWARD:  -0.68 \tEPISODE_LENGTH:  9\n",
            "EPISODE:  1600 \tREWARD:  -1.0 \tMEAN_REWARD:  -0.62 \tEPISODE_LENGTH:  9\n",
            "EPISODE:  1700 \tREWARD:  1.0 \tMEAN_REWARD:  -0.68 \tEPISODE_LENGTH:  9\n",
            "EPISODE:  1800 \tREWARD:  1.0 \tMEAN_REWARD:  -0.7 \tEPISODE_LENGTH:  9\n",
            "EPISODE:  1900 \tREWARD:  -1.0 \tMEAN_REWARD:  -0.66 \tEPISODE_LENGTH:  9\n",
            "EPISODE:  2000 \tREWARD:  -1.0 \tMEAN_REWARD:  -0.64 \tEPISODE_LENGTH:  9\n",
            "EPISODE:  2100 \tREWARD:  -1.0 \tMEAN_REWARD:  -0.5 \tEPISODE_LENGTH:  9\n",
            "EPISODE:  2200 \tREWARD:  -1.0 \tMEAN_REWARD:  -0.68 \tEPISODE_LENGTH:  9\n",
            "EPISODE:  2300 \tREWARD:  -1.0 \tMEAN_REWARD:  -0.7 \tEPISODE_LENGTH:  9\n",
            "EPISODE:  2400 \tREWARD:  -1.0 \tMEAN_REWARD:  -0.64 \tEPISODE_LENGTH:  9\n",
            "EPISODE:  2500 \tREWARD:  -1.0 \tMEAN_REWARD:  -0.54 \tEPISODE_LENGTH:  9\n",
            "EPISODE:  2600 \tREWARD:  1.0 \tMEAN_REWARD:  -0.62 \tEPISODE_LENGTH:  9\n",
            "EPISODE:  2700 \tREWARD:  -1.0 \tMEAN_REWARD:  -0.62 \tEPISODE_LENGTH:  9\n",
            "EPISODE:  2800 \tREWARD:  -1.0 \tMEAN_REWARD:  -0.66 \tEPISODE_LENGTH:  9\n",
            "EPISODE:  2900 \tREWARD:  -1.0 \tMEAN_REWARD:  -0.5 \tEPISODE_LENGTH:  9\n",
            "EPISODE:  3000 \tREWARD:  -1.0 \tMEAN_REWARD:  -0.7 \tEPISODE_LENGTH:  9\n",
            "EPISODE:  3100 \tREWARD:  -1.0 \tMEAN_REWARD:  -0.68 \tEPISODE_LENGTH:  9\n",
            "EPISODE:  3200 \tREWARD:  -1.0 \tMEAN_REWARD:  -0.54 \tEPISODE_LENGTH:  9\n",
            "EPISODE:  3300 \tREWARD:  -1.0 \tMEAN_REWARD:  -0.46 \tEPISODE_LENGTH:  9\n",
            "EPISODE:  3400 \tREWARD:  -1.0 \tMEAN_REWARD:  -0.6 \tEPISODE_LENGTH:  9\n",
            "EPISODE:  3500 \tREWARD:  -1.0 \tMEAN_REWARD:  -0.48 \tEPISODE_LENGTH:  9\n",
            "EPISODE:  3600 \tREWARD:  -1.0 \tMEAN_REWARD:  -0.5 \tEPISODE_LENGTH:  9\n",
            "EPISODE:  3700 \tREWARD:  -1.0 \tMEAN_REWARD:  -0.54 \tEPISODE_LENGTH:  9\n",
            "EPISODE:  3800 \tREWARD:  -1.0 \tMEAN_REWARD:  -0.66 \tEPISODE_LENGTH:  9\n",
            "EPISODE:  3900 \tREWARD:  -1.0 \tMEAN_REWARD:  -0.5 \tEPISODE_LENGTH:  9\n",
            "EPISODE:  4000 \tREWARD:  -1.0 \tMEAN_REWARD:  -0.46 \tEPISODE_LENGTH:  9\n",
            "EPISODE:  4100 \tREWARD:  -1.0 \tMEAN_REWARD:  -0.5 \tEPISODE_LENGTH:  9\n",
            "EPISODE:  4200 \tREWARD:  -1.0 \tMEAN_REWARD:  -0.6 \tEPISODE_LENGTH:  9\n",
            "EPISODE:  4300 \tREWARD:  -1.0 \tMEAN_REWARD:  -0.6 \tEPISODE_LENGTH:  9\n",
            "EPISODE:  4400 \tREWARD:  -1.0 \tMEAN_REWARD:  -0.62 \tEPISODE_LENGTH:  9\n",
            "EPISODE:  4500 \tREWARD:  -1.0 \tMEAN_REWARD:  -0.66 \tEPISODE_LENGTH:  9\n",
            "EPISODE:  4600 \tREWARD:  -1.0 \tMEAN_REWARD:  -0.58 \tEPISODE_LENGTH:  9\n",
            "EPISODE:  4700 \tREWARD:  1.0 \tMEAN_REWARD:  -0.56 \tEPISODE_LENGTH:  9\n",
            "EPISODE:  4800 \tREWARD:  -1.0 \tMEAN_REWARD:  -0.56 \tEPISODE_LENGTH:  9\n",
            "EPISODE:  4900 \tREWARD:  -1.0 \tMEAN_REWARD:  -0.72 \tEPISODE_LENGTH:  9\n",
            "EPISODE:  5000 \tREWARD:  -1.0 \tMEAN_REWARD:  -0.5 \tEPISODE_LENGTH:  9\n",
            "EPISODE:  5100 \tREWARD:  -1.0 \tMEAN_REWARD:  -0.76 \tEPISODE_LENGTH:  9\n",
            "EPISODE:  5200 \tREWARD:  -1.0 \tMEAN_REWARD:  -0.44 \tEPISODE_LENGTH:  9\n",
            "EPISODE:  5300 \tREWARD:  -1.0 \tMEAN_REWARD:  -0.58 \tEPISODE_LENGTH:  9\n",
            "EPISODE:  5400 \tREWARD:  -1.0 \tMEAN_REWARD:  -0.64 \tEPISODE_LENGTH:  9\n",
            "EPISODE:  5500 \tREWARD:  -1.0 \tMEAN_REWARD:  -0.64 \tEPISODE_LENGTH:  9\n",
            "EPISODE:  5600 \tREWARD:  -1.0 \tMEAN_REWARD:  -0.68 \tEPISODE_LENGTH:  9\n",
            "EPISODE:  5700 \tREWARD:  1.0 \tMEAN_REWARD:  -0.68 \tEPISODE_LENGTH:  9\n",
            "EPISODE:  5800 \tREWARD:  -1.0 \tMEAN_REWARD:  -0.56 \tEPISODE_LENGTH:  9\n",
            "EPISODE:  5900 \tREWARD:  -1.0 \tMEAN_REWARD:  -0.6 \tEPISODE_LENGTH:  9\n",
            "EPISODE:  6000 \tREWARD:  -1.0 \tMEAN_REWARD:  -0.5 \tEPISODE_LENGTH:  9\n",
            "EPISODE:  6100 \tREWARD:  -1.0 \tMEAN_REWARD:  -0.5 \tEPISODE_LENGTH:  9\n",
            "EPISODE:  6200 \tREWARD:  -1.0 \tMEAN_REWARD:  -0.56 \tEPISODE_LENGTH:  9\n",
            "EPISODE:  6300 \tREWARD:  -1.0 \tMEAN_REWARD:  -0.68 \tEPISODE_LENGTH:  9\n",
            "EPISODE:  6400 \tREWARD:  -1.0 \tMEAN_REWARD:  -0.62 \tEPISODE_LENGTH:  9\n",
            "EPISODE:  6500 \tREWARD:  -1.0 \tMEAN_REWARD:  -0.7 \tEPISODE_LENGTH:  9\n",
            "EPISODE:  6600 \tREWARD:  -1.0 \tMEAN_REWARD:  -0.66 \tEPISODE_LENGTH:  9\n",
            "EPISODE:  6700 \tREWARD:  1.0 \tMEAN_REWARD:  -0.62 \tEPISODE_LENGTH:  9\n",
            "EPISODE:  6800 \tREWARD:  -1.0 \tMEAN_REWARD:  -0.7 \tEPISODE_LENGTH:  9\n",
            "EPISODE:  6900 \tREWARD:  -1.0 \tMEAN_REWARD:  -0.72 \tEPISODE_LENGTH:  9\n",
            "EPISODE:  7000 \tREWARD:  -1.0 \tMEAN_REWARD:  -0.64 \tEPISODE_LENGTH:  9\n",
            "EPISODE:  7100 \tREWARD:  -1.0 \tMEAN_REWARD:  -0.5 \tEPISODE_LENGTH:  9\n",
            "EPISODE:  7200 \tREWARD:  1.0 \tMEAN_REWARD:  -0.66 \tEPISODE_LENGTH:  9\n",
            "EPISODE:  7300 \tREWARD:  -1.0 \tMEAN_REWARD:  -0.66 \tEPISODE_LENGTH:  9\n",
            "EPISODE:  7400 \tREWARD:  1.0 \tMEAN_REWARD:  -0.56 \tEPISODE_LENGTH:  9\n",
            "EPISODE:  7500 \tREWARD:  -1.0 \tMEAN_REWARD:  -0.5 \tEPISODE_LENGTH:  9\n",
            "EPISODE:  7600 \tREWARD:  -1.0 \tMEAN_REWARD:  -0.76 \tEPISODE_LENGTH:  9\n",
            "EPISODE:  7700 \tREWARD:  -1.0 \tMEAN_REWARD:  -0.6 \tEPISODE_LENGTH:  9\n",
            "EPISODE:  7800 \tREWARD:  -1.0 \tMEAN_REWARD:  -0.54 \tEPISODE_LENGTH:  9\n",
            "EPISODE:  7900 \tREWARD:  -1.0 \tMEAN_REWARD:  -0.66 \tEPISODE_LENGTH:  9\n",
            "EPISODE:  8000 \tREWARD:  -1.0 \tMEAN_REWARD:  -0.62 \tEPISODE_LENGTH:  9\n",
            "EPISODE:  8100 \tREWARD:  -1.0 \tMEAN_REWARD:  -0.34 \tEPISODE_LENGTH:  9\n",
            "EPISODE:  8200 \tREWARD:  -1.0 \tMEAN_REWARD:  -0.62 \tEPISODE_LENGTH:  9\n",
            "EPISODE:  8300 \tREWARD:  -1.0 \tMEAN_REWARD:  -0.62 \tEPISODE_LENGTH:  9\n",
            "EPISODE:  8400 \tREWARD:  -1.0 \tMEAN_REWARD:  -0.66 \tEPISODE_LENGTH:  9\n",
            "EPISODE:  8500 \tREWARD:  -1.0 \tMEAN_REWARD:  -0.46 \tEPISODE_LENGTH:  9\n",
            "EPISODE:  8600 \tREWARD:  -1.0 \tMEAN_REWARD:  -0.62 \tEPISODE_LENGTH:  9\n",
            "EPISODE:  8700 \tREWARD:  -1.0 \tMEAN_REWARD:  -0.68 \tEPISODE_LENGTH:  9\n",
            "EPISODE:  8800 \tREWARD:  -1.0 \tMEAN_REWARD:  -0.68 \tEPISODE_LENGTH:  9\n",
            "EPISODE:  8900 \tREWARD:  -1.0 \tMEAN_REWARD:  -0.64 \tEPISODE_LENGTH:  9\n",
            "EPISODE:  9000 \tREWARD:  -1.0 \tMEAN_REWARD:  -0.48 \tEPISODE_LENGTH:  9\n",
            "EPISODE:  9100 \tREWARD:  -1.0 \tMEAN_REWARD:  -0.44 \tEPISODE_LENGTH:  9\n",
            "EPISODE:  9200 \tREWARD:  -1.0 \tMEAN_REWARD:  -0.62 \tEPISODE_LENGTH:  9\n",
            "EPISODE:  9300 \tREWARD:  -1.0 \tMEAN_REWARD:  -0.64 \tEPISODE_LENGTH:  9\n",
            "EPISODE:  9400 \tREWARD:  -1.0 \tMEAN_REWARD:  -0.52 \tEPISODE_LENGTH:  9\n",
            "EPISODE:  9500 \tREWARD:  1.0 \tMEAN_REWARD:  -0.7 \tEPISODE_LENGTH:  9\n",
            "EPISODE:  9600 \tREWARD:  -1.0 \tMEAN_REWARD:  -0.7 \tEPISODE_LENGTH:  9\n",
            "EPISODE:  9700 \tREWARD:  -1.0 \tMEAN_REWARD:  -0.58 \tEPISODE_LENGTH:  9\n",
            "EPISODE:  9800 \tREWARD:  -1.0 \tMEAN_REWARD:  -0.46 \tEPISODE_LENGTH:  9\n",
            "EPISODE:  9900 \tREWARD:  1.0 \tMEAN_REWARD:  -0.68 \tEPISODE_LENGTH:  9\n",
            "EPISODE:  10000 \tREWARD:  -1.0 \tMEAN_REWARD:  -0.52 \tEPISODE_LENGTH:  9\n"
          ],
          "name": "stdout"
        }
      ]
    },
    {
      "cell_type": "code",
      "metadata": {
        "id": "9MmxdqXxCNCO",
        "colab": {
          "base_uri": "https://localhost:8080/",
          "height": 1000,
          "referenced_widgets": [
            "2ce8fef1d787443ab6b02e584cc5f26b",
            "3d1be05ac5cf42a583140e581a9aa3bb",
            "018382be762f4d629a7a6f0f29ca0a17",
            "66a9aec08347467d93e663ecbc06268c",
            "9e82eab034db4005b383c077053937c1",
            "6d41e8231d4d4a60b60f737922a731bd",
            "abfe7a95c9354348bac578530a925836",
            "cee8c9a6f9024e0291e30e10d2e91c3c",
            "87a1abb56f064f168121f913dec6a069",
            "2670d2e77d0a4bd3a1f2d62fa73a968e",
            "01f323a091984b03b63be75198baa8c3"
          ]
        },
        "outputId": "864b455a-dc56-4b2c-a753-477de8afc439"
      },
      "source": [
        "runner = Runner(\n",
        "    agent = RLAgent(agent_config=catch_noise_config),\n",
        "    env_id = environments.CATCH_NOISE,\n",
        "    log_interval = LOG_INTERVAL\n",
        ")\n",
        "runner.play_episodes()"
      ],
      "execution_count": null,
      "outputs": [
        {
          "output_type": "stream",
          "text": [
            "\u001b[1m\u001b[37mLoaded bsuite_id: catch_noise/1.\u001b[0m\n",
            "\u001b[1m\u001b[33mLogging results to CSV file for each bsuite_id in results.\u001b[0m\n"
          ],
          "name": "stdout"
        },
        {
          "output_type": "display_data",
          "data": {
            "application/vnd.jupyter.widget-view+json": {
              "model_id": "2ce8fef1d787443ab6b02e584cc5f26b",
              "version_minor": 0,
              "version_major": 2
            },
            "text/plain": [
              "  0%|          | 0/10000 [00:00<?, ?it/s]"
            ]
          },
          "metadata": {
            "tags": []
          }
        },
        {
          "output_type": "stream",
          "text": [
            "EPISODE:  100 \tREWARD:  -2.4319180485080194 \tMEAN_REWARD:  -0.53 \tEPISODE_LENGTH:  9\n",
            "EPISODE:  200 \tREWARD:  0.8881949106608489 \tMEAN_REWARD:  -0.46 \tEPISODE_LENGTH:  9\n",
            "EPISODE:  300 \tREWARD:  -1.2941227075745902 \tMEAN_REWARD:  -0.63 \tEPISODE_LENGTH:  9\n",
            "EPISODE:  400 \tREWARD:  -1.4250488015594018 \tMEAN_REWARD:  -0.62 \tEPISODE_LENGTH:  9\n",
            "EPISODE:  500 \tREWARD:  -0.18346899641600334 \tMEAN_REWARD:  -0.59 \tEPISODE_LENGTH:  9\n",
            "EPISODE:  600 \tREWARD:  0.39936420173707576 \tMEAN_REWARD:  -0.39 \tEPISODE_LENGTH:  9\n",
            "EPISODE:  700 \tREWARD:  -0.6115223148558895 \tMEAN_REWARD:  -0.71 \tEPISODE_LENGTH:  9\n",
            "EPISODE:  800 \tREWARD:  1.8585504709523746 \tMEAN_REWARD:  -0.68 \tEPISODE_LENGTH:  9\n",
            "EPISODE:  900 \tREWARD:  -0.637721569542689 \tMEAN_REWARD:  -0.75 \tEPISODE_LENGTH:  9\n",
            "EPISODE:  1000 \tREWARD:  -0.1701424555746447 \tMEAN_REWARD:  -0.61 \tEPISODE_LENGTH:  9\n",
            "EPISODE:  1100 \tREWARD:  -2.373967525284758 \tMEAN_REWARD:  -0.53 \tEPISODE_LENGTH:  9\n",
            "EPISODE:  1200 \tREWARD:  0.9410664532715053 \tMEAN_REWARD:  -0.64 \tEPISODE_LENGTH:  9\n",
            "EPISODE:  1300 \tREWARD:  0.14935897001644072 \tMEAN_REWARD:  -0.49 \tEPISODE_LENGTH:  9\n",
            "EPISODE:  1400 \tREWARD:  -0.46915825995716554 \tMEAN_REWARD:  -0.36 \tEPISODE_LENGTH:  9\n",
            "EPISODE:  1500 \tREWARD:  -1.0967027345203488 \tMEAN_REWARD:  -0.82 \tEPISODE_LENGTH:  9\n",
            "EPISODE:  1600 \tREWARD:  -0.590519575004099 \tMEAN_REWARD:  -0.66 \tEPISODE_LENGTH:  9\n",
            "EPISODE:  1700 \tREWARD:  0.4600847322894942 \tMEAN_REWARD:  -0.36 \tEPISODE_LENGTH:  9\n",
            "EPISODE:  1800 \tREWARD:  -1.2191277033889745 \tMEAN_REWARD:  -0.61 \tEPISODE_LENGTH:  9\n",
            "EPISODE:  1900 \tREWARD:  -1.3194958004662543 \tMEAN_REWARD:  -0.59 \tEPISODE_LENGTH:  9\n",
            "EPISODE:  2000 \tREWARD:  -1.0725519240660173 \tMEAN_REWARD:  -0.62 \tEPISODE_LENGTH:  9\n",
            "EPISODE:  2100 \tREWARD:  -0.8325406115721289 \tMEAN_REWARD:  -0.65 \tEPISODE_LENGTH:  9\n",
            "EPISODE:  2200 \tREWARD:  0.6554398892649567 \tMEAN_REWARD:  -0.52 \tEPISODE_LENGTH:  9\n",
            "EPISODE:  2300 \tREWARD:  -2.057203492145048 \tMEAN_REWARD:  -0.63 \tEPISODE_LENGTH:  9\n",
            "EPISODE:  2400 \tREWARD:  -0.8999610266905511 \tMEAN_REWARD:  -0.75 \tEPISODE_LENGTH:  9\n",
            "EPISODE:  2500 \tREWARD:  1.853698980224358 \tMEAN_REWARD:  -0.35 \tEPISODE_LENGTH:  9\n",
            "EPISODE:  2600 \tREWARD:  -2.0393710206345057 \tMEAN_REWARD:  -0.56 \tEPISODE_LENGTH:  9\n",
            "EPISODE:  2700 \tREWARD:  -0.7404188257945716 \tMEAN_REWARD:  -0.59 \tEPISODE_LENGTH:  9\n",
            "EPISODE:  2800 \tREWARD:  -0.7692911291296747 \tMEAN_REWARD:  -0.51 \tEPISODE_LENGTH:  9\n",
            "EPISODE:  2900 \tREWARD:  -1.4054059703103996 \tMEAN_REWARD:  -0.63 \tEPISODE_LENGTH:  9\n",
            "EPISODE:  3000 \tREWARD:  -0.5121112016246894 \tMEAN_REWARD:  -0.62 \tEPISODE_LENGTH:  9\n",
            "EPISODE:  3100 \tREWARD:  0.9063521251027006 \tMEAN_REWARD:  -0.6 \tEPISODE_LENGTH:  9\n",
            "EPISODE:  3200 \tREWARD:  -1.7154872204278544 \tMEAN_REWARD:  -0.72 \tEPISODE_LENGTH:  9\n",
            "EPISODE:  3300 \tREWARD:  -1.7543211466334183 \tMEAN_REWARD:  -0.7 \tEPISODE_LENGTH:  9\n",
            "EPISODE:  3400 \tREWARD:  -1.2468585698330004 \tMEAN_REWARD:  -0.69 \tEPISODE_LENGTH:  9\n",
            "EPISODE:  3500 \tREWARD:  -1.5777937653203873 \tMEAN_REWARD:  -0.67 \tEPISODE_LENGTH:  9\n",
            "EPISODE:  3600 \tREWARD:  -1.723954204367839 \tMEAN_REWARD:  -0.57 \tEPISODE_LENGTH:  9\n",
            "EPISODE:  3700 \tREWARD:  -1.3390600684584177 \tMEAN_REWARD:  -0.55 \tEPISODE_LENGTH:  9\n",
            "EPISODE:  3800 \tREWARD:  -0.27091604438057815 \tMEAN_REWARD:  -0.64 \tEPISODE_LENGTH:  9\n",
            "EPISODE:  3900 \tREWARD:  -1.6500551795439318 \tMEAN_REWARD:  -0.44 \tEPISODE_LENGTH:  9\n",
            "EPISODE:  4000 \tREWARD:  -1.518035850282325 \tMEAN_REWARD:  -0.63 \tEPISODE_LENGTH:  9\n",
            "EPISODE:  4100 \tREWARD:  -0.48998431399553455 \tMEAN_REWARD:  -0.56 \tEPISODE_LENGTH:  9\n",
            "EPISODE:  4200 \tREWARD:  -0.969230884506244 \tMEAN_REWARD:  -0.6 \tEPISODE_LENGTH:  9\n",
            "EPISODE:  4300 \tREWARD:  -1.2477601285199142 \tMEAN_REWARD:  -0.57 \tEPISODE_LENGTH:  9\n",
            "EPISODE:  4400 \tREWARD:  -1.5891299185866519 \tMEAN_REWARD:  -0.61 \tEPISODE_LENGTH:  9\n",
            "EPISODE:  4500 \tREWARD:  1.277402425761054 \tMEAN_REWARD:  -0.59 \tEPISODE_LENGTH:  9\n",
            "EPISODE:  4600 \tREWARD:  -0.7184732181373225 \tMEAN_REWARD:  -0.66 \tEPISODE_LENGTH:  9\n",
            "EPISODE:  4700 \tREWARD:  0.7473663956588822 \tMEAN_REWARD:  -0.7 \tEPISODE_LENGTH:  9\n",
            "EPISODE:  4800 \tREWARD:  -0.3698918119987854 \tMEAN_REWARD:  -0.6 \tEPISODE_LENGTH:  9\n",
            "EPISODE:  4900 \tREWARD:  -1.0392380395510732 \tMEAN_REWARD:  -0.65 \tEPISODE_LENGTH:  9\n",
            "EPISODE:  5000 \tREWARD:  -1.270801791857368 \tMEAN_REWARD:  -0.7 \tEPISODE_LENGTH:  9\n",
            "EPISODE:  5100 \tREWARD:  -1.1756397113535733 \tMEAN_REWARD:  -0.64 \tEPISODE_LENGTH:  9\n",
            "EPISODE:  5200 \tREWARD:  -0.15948447498406226 \tMEAN_REWARD:  -0.52 \tEPISODE_LENGTH:  9\n",
            "EPISODE:  5300 \tREWARD:  -1.0996400208152906 \tMEAN_REWARD:  -0.48 \tEPISODE_LENGTH:  9\n",
            "EPISODE:  5400 \tREWARD:  -2.080813145889157 \tMEAN_REWARD:  -0.55 \tEPISODE_LENGTH:  9\n",
            "EPISODE:  5500 \tREWARD:  0.3140605100209716 \tMEAN_REWARD:  -0.8 \tEPISODE_LENGTH:  9\n",
            "EPISODE:  5600 \tREWARD:  0.3315518370959266 \tMEAN_REWARD:  -0.71 \tEPISODE_LENGTH:  9\n",
            "EPISODE:  5700 \tREWARD:  0.2096862353011535 \tMEAN_REWARD:  -0.79 \tEPISODE_LENGTH:  9\n",
            "EPISODE:  5800 \tREWARD:  1.8648164681308659 \tMEAN_REWARD:  -0.55 \tEPISODE_LENGTH:  9\n",
            "EPISODE:  5900 \tREWARD:  -0.8941115946662648 \tMEAN_REWARD:  -0.63 \tEPISODE_LENGTH:  9\n",
            "EPISODE:  6000 \tREWARD:  0.1357092896219496 \tMEAN_REWARD:  -0.68 \tEPISODE_LENGTH:  9\n",
            "EPISODE:  6100 \tREWARD:  -0.7309254534885832 \tMEAN_REWARD:  -0.58 \tEPISODE_LENGTH:  9\n",
            "EPISODE:  6200 \tREWARD:  0.5466495619954603 \tMEAN_REWARD:  -0.5 \tEPISODE_LENGTH:  9\n",
            "EPISODE:  6300 \tREWARD:  -0.4882044954685746 \tMEAN_REWARD:  -0.74 \tEPISODE_LENGTH:  9\n",
            "EPISODE:  6400 \tREWARD:  0.450981222842918 \tMEAN_REWARD:  -0.5 \tEPISODE_LENGTH:  9\n",
            "EPISODE:  6500 \tREWARD:  -0.6731780234883198 \tMEAN_REWARD:  -0.51 \tEPISODE_LENGTH:  9\n",
            "EPISODE:  6600 \tREWARD:  1.9792225266653973 \tMEAN_REWARD:  -0.75 \tEPISODE_LENGTH:  9\n",
            "EPISODE:  6700 \tREWARD:  0.691788652700822 \tMEAN_REWARD:  -0.5 \tEPISODE_LENGTH:  9\n",
            "EPISODE:  6800 \tREWARD:  -1.354949621801623 \tMEAN_REWARD:  -0.59 \tEPISODE_LENGTH:  9\n",
            "EPISODE:  6900 \tREWARD:  -0.07081143591767536 \tMEAN_REWARD:  -0.51 \tEPISODE_LENGTH:  9\n",
            "EPISODE:  7000 \tREWARD:  -1.663276262285267 \tMEAN_REWARD:  -0.47 \tEPISODE_LENGTH:  9\n",
            "EPISODE:  7100 \tREWARD:  -0.9622243214321896 \tMEAN_REWARD:  -0.73 \tEPISODE_LENGTH:  9\n",
            "EPISODE:  7200 \tREWARD:  -0.8099351901567722 \tMEAN_REWARD:  -0.62 \tEPISODE_LENGTH:  9\n",
            "EPISODE:  7300 \tREWARD:  -0.9427514611588996 \tMEAN_REWARD:  -0.51 \tEPISODE_LENGTH:  9\n",
            "EPISODE:  7400 \tREWARD:  -0.5468485095496791 \tMEAN_REWARD:  -0.63 \tEPISODE_LENGTH:  9\n",
            "EPISODE:  7500 \tREWARD:  -1.4522102247335968 \tMEAN_REWARD:  -0.62 \tEPISODE_LENGTH:  9\n",
            "EPISODE:  7600 \tREWARD:  1.076538639941028 \tMEAN_REWARD:  -0.56 \tEPISODE_LENGTH:  9\n",
            "EPISODE:  7700 \tREWARD:  -0.929063641819126 \tMEAN_REWARD:  -0.68 \tEPISODE_LENGTH:  9\n",
            "EPISODE:  7800 \tREWARD:  -1.1393340737331967 \tMEAN_REWARD:  -0.55 \tEPISODE_LENGTH:  9\n",
            "EPISODE:  7900 \tREWARD:  -1.1535034301045504 \tMEAN_REWARD:  -0.5 \tEPISODE_LENGTH:  9\n",
            "EPISODE:  8000 \tREWARD:  -0.5818375818660172 \tMEAN_REWARD:  -0.63 \tEPISODE_LENGTH:  9\n",
            "EPISODE:  8100 \tREWARD:  -0.7809850416392428 \tMEAN_REWARD:  -0.58 \tEPISODE_LENGTH:  9\n",
            "EPISODE:  8200 \tREWARD:  1.4738509039827317 \tMEAN_REWARD:  -0.73 \tEPISODE_LENGTH:  9\n",
            "EPISODE:  8300 \tREWARD:  1.0775841775272268 \tMEAN_REWARD:  -0.5 \tEPISODE_LENGTH:  9\n",
            "EPISODE:  8400 \tREWARD:  -1.702740565953817 \tMEAN_REWARD:  -0.57 \tEPISODE_LENGTH:  9\n",
            "EPISODE:  8500 \tREWARD:  -0.7009465059056705 \tMEAN_REWARD:  -0.47 \tEPISODE_LENGTH:  9\n",
            "EPISODE:  8600 \tREWARD:  -1.364529978006558 \tMEAN_REWARD:  -0.49 \tEPISODE_LENGTH:  9\n",
            "EPISODE:  8700 \tREWARD:  -0.8870475494792645 \tMEAN_REWARD:  -0.45 \tEPISODE_LENGTH:  9\n",
            "EPISODE:  8800 \tREWARD:  1.608483595505819 \tMEAN_REWARD:  -0.48 \tEPISODE_LENGTH:  9\n",
            "EPISODE:  8900 \tREWARD:  -0.9445590053772703 \tMEAN_REWARD:  -0.57 \tEPISODE_LENGTH:  9\n",
            "EPISODE:  9000 \tREWARD:  -0.6924726593407384 \tMEAN_REWARD:  -0.65 \tEPISODE_LENGTH:  9\n",
            "EPISODE:  9100 \tREWARD:  1.515640178361648 \tMEAN_REWARD:  -0.55 \tEPISODE_LENGTH:  9\n",
            "EPISODE:  9200 \tREWARD:  -1.2058750973156611 \tMEAN_REWARD:  -0.51 \tEPISODE_LENGTH:  9\n",
            "EPISODE:  9300 \tREWARD:  -1.0913898963564954 \tMEAN_REWARD:  -0.48 \tEPISODE_LENGTH:  9\n",
            "EPISODE:  9400 \tREWARD:  -0.3058544055084077 \tMEAN_REWARD:  -0.69 \tEPISODE_LENGTH:  9\n",
            "EPISODE:  9500 \tREWARD:  -0.47200925529187515 \tMEAN_REWARD:  -0.63 \tEPISODE_LENGTH:  9\n",
            "EPISODE:  9600 \tREWARD:  -0.7341138363723982 \tMEAN_REWARD:  -0.6 \tEPISODE_LENGTH:  9\n",
            "EPISODE:  9700 \tREWARD:  -1.207323251209016 \tMEAN_REWARD:  -0.47 \tEPISODE_LENGTH:  9\n",
            "EPISODE:  9800 \tREWARD:  -0.12486638575332609 \tMEAN_REWARD:  -0.55 \tEPISODE_LENGTH:  9\n",
            "EPISODE:  9900 \tREWARD:  -1.125095384156314 \tMEAN_REWARD:  -0.45 \tEPISODE_LENGTH:  9\n",
            "EPISODE:  10000 \tREWARD:  -1.678307591357688 \tMEAN_REWARD:  -0.75 \tEPISODE_LENGTH:  9\n"
          ],
          "name": "stdout"
        }
      ]
    },
    {
      "cell_type": "code",
      "metadata": {
        "id": "E2tC9ud4CbqV",
        "colab": {
          "base_uri": "https://localhost:8080/",
          "height": 253,
          "referenced_widgets": [
            "8b0c840595ed415ba2d909076271756f",
            "79d9b8ad123d42a6b5875cedb0f0b5d6",
            "470bdd43482b480595b09a658a316d3e",
            "27340849aff444c5a49dab542c82548e",
            "b7e9623b4c7242ba955416176f98b7f5",
            "3844c359462d465aaf650ecbb1efdc65",
            "fe0991509e3e47af992b216dacc2df6d",
            "519f1e277ae6453889665dc864586164",
            "7ceba5899c82494897e1e74b8a31f51b",
            "17ad1074c3184c81ba136559306a9211",
            "64fdd33d0ed84f6b830e6dc83022eb01"
          ]
        },
        "outputId": "ab3766f3-6df0-43a2-8ca7-7cfb182ad041"
      },
      "source": [
        "runner = Runner(\n",
        "    agent = RLAgent(agent_config=cartpole_config),\n",
        "    env_id = environments.CARTPOLE,\n",
        "    log_interval = LOG_INTERVAL\n",
        ")\n",
        "runner.play_episodes()"
      ],
      "execution_count": null,
      "outputs": [
        {
          "output_type": "stream",
          "text": [
            "\u001b[1m\u001b[37mLoaded bsuite_id: cartpole/0.\u001b[0m\n",
            "\u001b[1m\u001b[33mLogging results to CSV file for each bsuite_id in results.\u001b[0m\n"
          ],
          "name": "stdout"
        },
        {
          "output_type": "display_data",
          "data": {
            "application/vnd.jupyter.widget-view+json": {
              "model_id": "8b0c840595ed415ba2d909076271756f",
              "version_minor": 0,
              "version_major": 2
            },
            "text/plain": [
              "  0%|          | 0/1000 [00:00<?, ?it/s]"
            ]
          },
          "metadata": {
            "tags": []
          }
        },
        {
          "output_type": "stream",
          "text": [
            "EPISODE:  100 \tREWARD:  48.0 \tMEAN_REWARD:  39.62 \tEPISODE_LENGTH:  49\n",
            "EPISODE:  200 \tREWARD:  38.0 \tMEAN_REWARD:  39.25 \tEPISODE_LENGTH:  39\n",
            "EPISODE:  300 \tREWARD:  46.0 \tMEAN_REWARD:  39.25 \tEPISODE_LENGTH:  47\n",
            "EPISODE:  400 \tREWARD:  41.0 \tMEAN_REWARD:  39.33 \tEPISODE_LENGTH:  42\n",
            "EPISODE:  500 \tREWARD:  39.0 \tMEAN_REWARD:  39.22 \tEPISODE_LENGTH:  40\n",
            "EPISODE:  600 \tREWARD:  41.0 \tMEAN_REWARD:  39.25 \tEPISODE_LENGTH:  42\n",
            "EPISODE:  700 \tREWARD:  37.0 \tMEAN_REWARD:  38.76 \tEPISODE_LENGTH:  38\n",
            "EPISODE:  800 \tREWARD:  44.0 \tMEAN_REWARD:  39.38 \tEPISODE_LENGTH:  45\n",
            "EPISODE:  900 \tREWARD:  32.0 \tMEAN_REWARD:  39.29 \tEPISODE_LENGTH:  33\n",
            "EPISODE:  1000 \tREWARD:  34.0 \tMEAN_REWARD:  39.98 \tEPISODE_LENGTH:  35\n"
          ],
          "name": "stdout"
        }
      ]
    },
    {
      "cell_type": "code",
      "metadata": {
        "id": "N-H_Kym-CcCJ",
        "colab": {
          "base_uri": "https://localhost:8080/",
          "height": 253,
          "referenced_widgets": [
            "bc9c41e8026d4eaea69ae9943242ee4e",
            "607d61e4e5944b7abe7f93857fb0e0cb",
            "39f3039c00f04d4ab273e062af14b509",
            "2ff72f5f8b54447c9f099bb9ad4fa300",
            "9e1f620ab75b4633a7f6adbaf584742f",
            "f99784529ae144b3bd62b878b6250f27",
            "b6526167eaa244b280bf06c31508783c",
            "b85b97f23e654a2e88c79fb57d849803",
            "d889e6f982da4f8486a4481a1e63334f",
            "fb5ce9bd01a14d96a1cf91afeb11d3c2",
            "d44b5e998da14ccabcbcc1f3fc758f97"
          ]
        },
        "outputId": "e2acbe12-7bfa-4d60-d4cb-af226ea0ca15"
      },
      "source": [
        "runner = Runner(\n",
        "    agent = RLAgent(agent_config=cartpole_noise_config),\n",
        "    env_id = environments.CARTPOLE_NOISE,\n",
        "    log_interval = LOG_INTERVAL\n",
        ")\n",
        "runner.play_episodes()"
      ],
      "execution_count": null,
      "outputs": [
        {
          "output_type": "stream",
          "text": [
            "\u001b[1m\u001b[37mLoaded bsuite_id: cartpole_noise/1.\u001b[0m\n",
            "\u001b[1m\u001b[33mLogging results to CSV file for each bsuite_id in results.\u001b[0m\n"
          ],
          "name": "stdout"
        },
        {
          "output_type": "display_data",
          "data": {
            "application/vnd.jupyter.widget-view+json": {
              "model_id": "bc9c41e8026d4eaea69ae9943242ee4e",
              "version_minor": 0,
              "version_major": 2
            },
            "text/plain": [
              "  0%|          | 0/1000 [00:00<?, ?it/s]"
            ]
          },
          "metadata": {
            "tags": []
          }
        },
        {
          "output_type": "stream",
          "text": [
            "EPISODE:  100 \tREWARD:  38.695912728165425 \tMEAN_REWARD:  39.19 \tEPISODE_LENGTH:  39\n",
            "EPISODE:  200 \tREWARD:  42.88700013836746 \tMEAN_REWARD:  39.67 \tEPISODE_LENGTH:  44\n",
            "EPISODE:  300 \tREWARD:  34.44267331882654 \tMEAN_REWARD:  39.09 \tEPISODE_LENGTH:  37\n",
            "EPISODE:  400 \tREWARD:  40.758980865553106 \tMEAN_REWARD:  39.6 \tEPISODE_LENGTH:  43\n",
            "EPISODE:  500 \tREWARD:  45.03786307311194 \tMEAN_REWARD:  38.47 \tEPISODE_LENGTH:  43\n",
            "EPISODE:  600 \tREWARD:  41.87206267978895 \tMEAN_REWARD:  38.93 \tEPISODE_LENGTH:  42\n",
            "EPISODE:  700 \tREWARD:  40.00846320658314 \tMEAN_REWARD:  38.6 \tEPISODE_LENGTH:  42\n",
            "EPISODE:  800 \tREWARD:  38.303728191614994 \tMEAN_REWARD:  39.41 \tEPISODE_LENGTH:  40\n",
            "EPISODE:  900 \tREWARD:  38.94137451395413 \tMEAN_REWARD:  39.36 \tEPISODE_LENGTH:  38\n",
            "EPISODE:  1000 \tREWARD:  37.05482930725222 \tMEAN_REWARD:  39.38 \tEPISODE_LENGTH:  37\n"
          ],
          "name": "stdout"
        }
      ]
    },
    {
      "cell_type": "code",
      "metadata": {
        "id": "lUSEPrdUCcEv",
        "colab": {
          "base_uri": "https://localhost:8080/",
          "height": 253,
          "referenced_widgets": [
            "db54478273e34bcbbd5fe7fd4924950e",
            "e9f5439a28dc4cdeb614951261cb3404",
            "1cb5e269fe4d43648a17daa2ce641fad",
            "e793aa9ea5854ca1a6586ea54e493823",
            "54e4ac2dec7341d680de9f7eb8bf5a1d",
            "a4959746827e479b82e8c697a06b6a6e",
            "c66518d13bca4a3a9d078afc1524c28f",
            "940853c92b194af29fb01afed1e78a3b",
            "b019b91a5721442eb792a3e7e704bc17",
            "60504efc667946a099161c9ef98dbecb",
            "ae8236928c7d4a6bb18253da4a95e890"
          ]
        },
        "outputId": "b0449c22-32e1-4337-d89c-9ba45fb39d18"
      },
      "source": [
        "runner = Runner(\n",
        "    agent = RLAgent(agent_config=mountaincar_config),\n",
        "    env_id = environments.MOUNTAINCAR,\n",
        "    log_interval = LOG_INTERVAL\n",
        ")\n",
        "runner.play_episodes()"
      ],
      "execution_count": null,
      "outputs": [
        {
          "output_type": "stream",
          "text": [
            "\u001b[1m\u001b[37mLoaded bsuite_id: mountain_car/0.\u001b[0m\n",
            "\u001b[1m\u001b[33mLogging results to CSV file for each bsuite_id in results.\u001b[0m\n"
          ],
          "name": "stdout"
        },
        {
          "output_type": "display_data",
          "data": {
            "application/vnd.jupyter.widget-view+json": {
              "model_id": "db54478273e34bcbbd5fe7fd4924950e",
              "version_minor": 0,
              "version_major": 2
            },
            "text/plain": [
              "  0%|          | 0/1000 [00:00<?, ?it/s]"
            ]
          },
          "metadata": {
            "tags": []
          }
        },
        {
          "output_type": "stream",
          "text": [
            "EPISODE:  100 \tREWARD:  -1000.0 \tMEAN_REWARD:  -1000.0 \tEPISODE_LENGTH:  1000\n",
            "EPISODE:  200 \tREWARD:  -1000.0 \tMEAN_REWARD:  -1000.0 \tEPISODE_LENGTH:  1000\n",
            "EPISODE:  300 \tREWARD:  -1000.0 \tMEAN_REWARD:  -1000.0 \tEPISODE_LENGTH:  1000\n",
            "EPISODE:  400 \tREWARD:  -1000.0 \tMEAN_REWARD:  -1000.0 \tEPISODE_LENGTH:  1000\n",
            "EPISODE:  500 \tREWARD:  -1000.0 \tMEAN_REWARD:  -1000.0 \tEPISODE_LENGTH:  1000\n",
            "EPISODE:  600 \tREWARD:  -1000.0 \tMEAN_REWARD:  -1000.0 \tEPISODE_LENGTH:  1000\n",
            "EPISODE:  700 \tREWARD:  -1000.0 \tMEAN_REWARD:  -1000.0 \tEPISODE_LENGTH:  1000\n",
            "EPISODE:  800 \tREWARD:  -1000.0 \tMEAN_REWARD:  -1000.0 \tEPISODE_LENGTH:  1000\n",
            "EPISODE:  900 \tREWARD:  -1000.0 \tMEAN_REWARD:  -1000.0 \tEPISODE_LENGTH:  1000\n",
            "EPISODE:  1000 \tREWARD:  -1000.0 \tMEAN_REWARD:  -1000.0 \tEPISODE_LENGTH:  1000\n"
          ],
          "name": "stdout"
        }
      ]
    },
    {
      "cell_type": "code",
      "metadata": {
        "id": "sR04Asc-CcHr",
        "colab": {
          "base_uri": "https://localhost:8080/",
          "height": 253,
          "referenced_widgets": [
            "6e5e02a4b22346bc8428d632d107b174",
            "2d78be5c421a4ee79613a29a5883c754",
            "6c3b917b4d204e829bf0052611ecfc06",
            "1540b2724c3843c986e7cf8bc892c4a1",
            "e81d5e1520e24de7a695b6efd96d1855",
            "d28164e92858448aa777c2f5dcc04ac2",
            "93de7567e802455a96ae9f5e2fe051b1",
            "b28696851fe5429496309d869d3a76b5",
            "796922c2e36943039a13080c2ff0c5fa",
            "c3d4c9fe34bf4701b788f0164caf42f4",
            "4f188da0043441af99186b3a3b54f395"
          ]
        },
        "outputId": "5bc492fe-8da7-4604-ee56-e1ca405a3c2e"
      },
      "source": [
        "runner = Runner(\n",
        "    agent = RLAgent(agent_config=mountaincar_noise_config),\n",
        "    env_id = environments.MOUNTAINCAR_NOISE,\n",
        "    log_interval = LOG_INTERVAL\n",
        ")\n",
        "runner.play_episodes()"
      ],
      "execution_count": null,
      "outputs": [
        {
          "output_type": "stream",
          "text": [
            "\u001b[1m\u001b[37mLoaded bsuite_id: mountain_car_noise/1.\u001b[0m\n",
            "\u001b[1m\u001b[33mLogging results to CSV file for each bsuite_id in results.\u001b[0m\n"
          ],
          "name": "stdout"
        },
        {
          "output_type": "display_data",
          "data": {
            "application/vnd.jupyter.widget-view+json": {
              "model_id": "6e5e02a4b22346bc8428d632d107b174",
              "version_minor": 0,
              "version_major": 2
            },
            "text/plain": [
              "  0%|          | 0/1000 [00:00<?, ?it/s]"
            ]
          },
          "metadata": {
            "tags": []
          }
        },
        {
          "output_type": "stream",
          "text": [
            "EPISODE:  100 \tREWARD:  -984.0074826301465 \tMEAN_REWARD:  -998.95 \tEPISODE_LENGTH:  1000\n",
            "EPISODE:  200 \tREWARD:  -1006.6954177370483 \tMEAN_REWARD:  -999.26 \tEPISODE_LENGTH:  1000\n",
            "EPISODE:  300 \tREWARD:  -999.4489016804749 \tMEAN_REWARD:  -1000.41 \tEPISODE_LENGTH:  1000\n",
            "EPISODE:  400 \tREWARD:  -1005.9196899050198 \tMEAN_REWARD:  -1000.2 \tEPISODE_LENGTH:  1000\n",
            "EPISODE:  500 \tREWARD:  -996.9460177617744 \tMEAN_REWARD:  -1000.08 \tEPISODE_LENGTH:  1000\n",
            "EPISODE:  600 \tREWARD:  -1005.6408451495033 \tMEAN_REWARD:  -999.07 \tEPISODE_LENGTH:  1000\n",
            "EPISODE:  700 \tREWARD:  -1002.8574841673754 \tMEAN_REWARD:  -1000.17 \tEPISODE_LENGTH:  1000\n",
            "EPISODE:  800 \tREWARD:  -1003.0486212221472 \tMEAN_REWARD:  -999.14 \tEPISODE_LENGTH:  1000\n",
            "EPISODE:  900 \tREWARD:  -1003.0506259195664 \tMEAN_REWARD:  -1001.53 \tEPISODE_LENGTH:  1000\n",
            "EPISODE:  1000 \tREWARD:  -992.5036966097842 \tMEAN_REWARD:  -999.88 \tEPISODE_LENGTH:  1000\n"
          ],
          "name": "stdout"
        }
      ]
    },
    {
      "cell_type": "markdown",
      "metadata": {
        "id": "4M3w5s_7Zz85"
      },
      "source": [
        "# **Analysis & Result**\n",
        "\n",
        "The following cells will show the score of the agent on each environment. The same scoring method will be used to evaluate your agent on a set of test environments."
      ]
    },
    {
      "cell_type": "code",
      "metadata": {
        "id": "EbiYZYkkzp5s",
        "colab": {
          "base_uri": "https://localhost:8080/"
        },
        "outputId": "a10987fd-1f12-46c5-8a7d-9706030fc609"
      },
      "source": [
        "# *** PLEASE DONT EDIT THE CONTENTS OF THIS CELL ***\n",
        "analyzer = Analyzer(os.environ.get('RESULTS_DIR'))\n",
        "analyzer.print_scores()"
      ],
      "execution_count": null,
      "outputs": [
        {
          "output_type": "stream",
          "text": [
            "╒════════════════════╤═══════════╕\n",
            "│ ENVIRONMENT        │     SCORE │\n",
            "╞════════════════════╪═══════════╡\n",
            "│ catch              │ 0.000625  │\n",
            "├────────────────────┼───────────┤\n",
            "│ catch_noise        │ 0.0025    │\n",
            "├────────────────────┼───────────┤\n",
            "│ cartpole           │ 0.0196665 │\n",
            "├────────────────────┼───────────┤\n",
            "│ cartpole_noise     │ 0.0195645 │\n",
            "├────────────────────┼───────────┤\n",
            "│ mountain_car       │ 0.1       │\n",
            "├────────────────────┼───────────┤\n",
            "│ mountain_car_noise │ 0.1       │\n",
            "╘════════════════════╧═══════════╛\n"
          ],
          "name": "stdout"
        }
      ]
    },
    {
      "cell_type": "code",
      "metadata": {
        "colab": {
          "base_uri": "https://localhost:8080/"
        },
        "id": "ldLVxBn75Dgv",
        "outputId": "4281eedc-e256-49a5-a57e-324bcb7c1595"
      },
      "source": [
        "# If you want a object to get the scores\n",
        "analyzer.get_scores()"
      ],
      "execution_count": null,
      "outputs": [
        {
          "output_type": "execute_result",
          "data": {
            "text/plain": [
              "{'cartpole': 0.019666499999999986,\n",
              " 'cartpole_noise': 0.01956450000000001,\n",
              " 'catch': 0.0006250000000000699,\n",
              " 'catch_noise': 0.0025000000000000022,\n",
              " 'mountain_car': 0.1,\n",
              " 'mountain_car_noise': 0.1}"
            ]
          },
          "metadata": {
            "tags": []
          },
          "execution_count": 21
        }
      ]
    },
    {
      "cell_type": "markdown",
      "metadata": {
        "id": "csfXypp1MAYv"
      },
      "source": [
        "## What is the score function\n",
        "\n",
        "The score function is developed by the BSuite team at Deepmind. It is open source and available at https://github.com/deepmind/bsuite\n",
        "\n",
        "The score measures behavioral aspects of the agent only, and does not take into account internal state of the agent. For more details read Section 2 of the [BSuite paper](https://openreview.net/forum?id=rygf-kSYwH). In this case we use only the \"Basic\" aspect of the agent's scoring system.\n",
        "\n",
        "**It is not necessary to understand the score in order to improve your agent's performance**"
      ]
    },
    {
      "cell_type": "markdown",
      "metadata": {
        "id": "MvSY6g4p9Geu"
      },
      "source": [
        "# **Backend Evaluation**\n",
        "\n",
        "THIS CODE WILL EVALUATE THE AGENT USING THE SPECIFIED CONFIGS FOR THE CORRESPONDING ENVIRONMENTS. DO NOT EDIT THE CONTENTS OF THIS CELL."
      ]
    },
    {
      "cell_type": "code",
      "metadata": {
        "id": "m_81Xj8C9E9E"
      },
      "source": [
        "## Do not edit this cell\n",
        "if (os.environ.get('BACKEND_EVALUATOR') is not None):\n",
        "    \n",
        "    import backend_evaluator\n",
        "\n",
        "    runs = {\n",
        "        'catch': (\n",
        "            backend_evaluator.CATCH, \n",
        "            catch_config),\n",
        "        'catch_noise': (\n",
        "            backend_evaluator.CATCH_NOISE, \n",
        "            catch_noise_config),\n",
        "        'cartpole': (\n",
        "            backend_evaluator.CARTPOLE, \n",
        "            cartpole_config),\n",
        "        'cartpole_noise': (\n",
        "            backend_evaluator.CARTPOLE_NOISE, \n",
        "            cartpole_noise_config),\n",
        "        'mountaincar': (\n",
        "            backend_evaluator.MOUNTAINCAR, \n",
        "            mountaincar_config),\n",
        "        'mountaincar_noise': (\n",
        "            backend_evaluator.MOUNTAINCAR_NOISE, \n",
        "            mountaincar_noise_config)\n",
        "    }\n",
        "\n",
        "    for run_name, run in runs.items():\n",
        "        env_ids, config = run\n",
        "        for env_id in env_ids:\n",
        "            runner = Runner(env_id=env_id,\n",
        "                            agent=RLAgent(agent_config=config),\n",
        "                            verbose=False,\n",
        "                            eval=True)\n",
        "            runner.play_episodes()"
      ],
      "execution_count": null,
      "outputs": []
    },
    {
      "cell_type": "markdown",
      "metadata": {
        "id": "rbgvyHFX5I7u"
      },
      "source": [
        "# Submit to AIcrowd 🚀\n",
        "\n",
        "**NOTE: PLEASE SAVE THE NOTEBOOK BEFORE SUBMITTING IT (Ctrl + S)**"
      ]
    },
    {
      "cell_type": "code",
      "metadata": {
        "id": "HwzRiuBy5I7u",
        "colab": {
          "base_uri": "https://localhost:8080/"
        },
        "outputId": "aa51c85e-0b79-409f-ec45-1b6ccfbe6ece"
      },
      "source": [
        "# ! aicrowd notebook submit --no-verify -c iitm-rl-final-project -a assets"
      ],
      "execution_count": null,
      "outputs": [
        {
          "output_type": "stream",
          "text": [
            "WARNING: No assets directory at assets... Creating one...\n",
            "\u001b[1;34mMounting Google Drive 💾\u001b[0m\n",
            "Your Google Drive will be mounted to access the colab notebook\n",
            "Go to this URL in a browser: https://accounts.google.com/o/oauth2/auth?client_id=947318989803-6bn6qk8qdgf4n4g3pfee6491hc0brc4i.apps.googleusercontent.com&redirect_uri=urn%3aietf%3awg%3aoauth%3a2.0%3aoob&scope=email%20https%3a%2f%2fwww.googleapis.com%2fauth%2fdocs.test%20https%3a%2f%2fwww.googleapis.com%2fauth%2fdrive%20https%3a%2f%2fwww.googleapis.com%2fauth%2fdrive.photos.readonly%20https%3a%2f%2fwww.googleapis.com%2fauth%2fpeopleapi.readonly%20https%3a%2f%2fwww.googleapis.com%2fauth%2fdrive.activity.readonly%20https%3a%2f%2fwww.googleapis.com%2fauth%2fexperimentsandconfigs%20https%3a%2f%2fwww.googleapis.com%2fauth%2fphotos.native&response_type=code\n",
            "\n",
            "Enter your authorization code:\n",
            "4/1AY0e-g7GbK62SPaGCEmiIfhtRfMkduYY4ypqzLM9Q-kZ8huyOJQyO9se7gY\n",
            "Mounted at /content/drive\n",
            "Using notebook: /content/drive/MyDrive/Colab Notebooks/IITM_RL_Final_Project_Release.ipynb for submission...\n",
            "Scrubbing API keys from the notebook...\n",
            "Collecting notebook...\n",
            "\u001b[2K\u001b[1;34msubmission.zip\u001b[0m \u001b[90m━━━━━━━━━━━━━━━━━━━━\u001b[0m \u001b[35m100.0%\u001b[0m • \u001b[32m56.2/54.6 KB\u001b[0m • \u001b[31m415.6 kB/s\u001b[0m • \u001b[36m0:00:00\u001b[0m\n",
            "\u001b[?25h                                          ╭─────────────────────────╮                                          \n",
            "                                          │ \u001b[1mSuccessfully submitted!\u001b[0m │                                          \n",
            "                                          ╰─────────────────────────╯                                          \n",
            "\u001b[3m                                                Important links                                                \u001b[0m\n",
            "┌──────────────────┬──────────────────────────────────────────────────────────────────────────────────────────┐\n",
            "│  This submission │ https://www.aicrowd.com/challenges/iitm-rl-final-project/submissions/135842              │\n",
            "│                  │                                                                                          │\n",
            "│  All submissions │ https://www.aicrowd.com/challenges/iitm-rl-final-project/submissions?my_submissions=true │\n",
            "│                  │                                                                                          │\n",
            "│      Leaderboard │ https://www.aicrowd.com/challenges/iitm-rl-final-project/leaderboards                    │\n",
            "│                  │                                                                                          │\n",
            "│ Discussion forum │ https://discourse.aicrowd.com/c/iitm-rl-final-project                                    │\n",
            "│                  │                                                                                          │\n",
            "│   Challenge page │ https://www.aicrowd.com/challenges/iitm-rl-final-project                                 │\n",
            "└──────────────────┴──────────────────────────────────────────────────────────────────────────────────────────┘\n"
          ],
          "name": "stdout"
        }
      ]
    }
  ]
}